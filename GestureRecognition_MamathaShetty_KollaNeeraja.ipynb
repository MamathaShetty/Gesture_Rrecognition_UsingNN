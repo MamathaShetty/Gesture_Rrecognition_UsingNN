{
 "cells": [
  {
   "cell_type": "code",
   "execution_count": 1,
   "metadata": {
    "colab": {
     "base_uri": "https://localhost:8080/"
    },
    "id": "s4zwYp9muP7Q",
    "outputId": "f734b770-bec3-4dfe-89dc-22cf1b954973"
   },
   "outputs": [
    {
     "name": "stdout",
     "output_type": "stream",
     "text": [
      "Looking in indexes: https://pypi.tuna.tsinghua.edu.cn/simple\n",
      "Collecting scipy==1.1.0\n",
      "  Using cached scipy-1.1.0-cp38-cp38-linux_x86_64.whl\n",
      "Requirement already satisfied: numpy>=1.8.2 in /usr/local/lib/python3.8/dist-packages (from scipy==1.1.0) (1.19.4)\n",
      "Installing collected packages: scipy\n",
      "  Attempting uninstall: scipy\n",
      "    Found existing installation: scipy 1.4.1\n",
      "    Uninstalling scipy-1.4.1:\n",
      "      Successfully uninstalled scipy-1.4.1\n",
      "\u001b[31mERROR: pip's dependency resolver does not currently take into account all the packages that are installed. This behaviour is the source of the following dependency conflicts.\n",
      "scikit-image 0.19.2 requires scipy>=1.4.1, but you have scipy 1.1.0 which is incompatible.\u001b[0m\u001b[31m\n",
      "\u001b[0mSuccessfully installed scipy-1.1.0\n",
      "\u001b[33mWARNING: Running pip as the 'root' user can result in broken permissions and conflicting behaviour with the system package manager. It is recommended to use a virtual environment instead: https://pip.pypa.io/warnings/venv\u001b[0m\u001b[33m\n",
      "\u001b[0m\u001b[33mWARNING: You are using pip version 22.0.3; however, version 22.1 is available.\n",
      "You should consider upgrading via the '/usr/bin/python -m pip install --upgrade pip' command.\u001b[0m\u001b[33m\n",
      "\u001b[0m"
     ]
    }
   ],
   "source": [
    "!pip install scipy==1.1.0"
   ]
  },
  {
   "cell_type": "code",
   "execution_count": 2,
   "metadata": {
    "id": "g-mT8OKAuZkS"
   },
   "outputs": [],
   "source": [
    "import numpy as np\n",
    "import os\n",
    "from scipy.misc import imread, imresize\n",
    "import datetime\n",
    "import os\n",
    "import cv2"
   ]
  },
  {
   "cell_type": "markdown",
   "metadata": {
    "id": "lvmFq77IunVl"
   },
   "source": [
    "We set the random seed so that the results don't vary drastically."
   ]
  },
  {
   "cell_type": "code",
   "execution_count": 3,
   "metadata": {
    "id": "11Q8Cp5Dui4P"
   },
   "outputs": [],
   "source": [
    "np.random.seed(30)\n",
    "import random as rn\n",
    "rn.seed(30)\n",
    "from keras import backend as K\n",
    "import tensorflow as tf\n",
    "tf.random.set_seed(30)"
   ]
  },
  {
   "cell_type": "markdown",
   "metadata": {
    "id": "sVr3Gtpnuxb3"
   },
   "source": [
    "In this block, you read the folder names for training and validation. You also set the batch_size here. Note that you set the batch size in such a way that you are able to use the GPU in full capacity. You keep increasing the batch size until the machine throws an error."
   ]
  },
  {
   "cell_type": "code",
   "execution_count": 4,
   "metadata": {},
   "outputs": [],
   "source": [
    "train_doc = np.random.permutation(open('/datasets/Project_data/train.csv').readlines())\n",
    "val_doc = np.random.permutation(open('/datasets/Project_data/val.csv').readlines())"
   ]
  },
  {
   "cell_type": "code",
   "execution_count": 5,
   "metadata": {
    "colab": {
     "base_uri": "https://localhost:8080/"
    },
    "id": "4-U5D2AawhG8",
    "outputId": "6abbaacb-d17f-4203-f255-7d3fd149ac26"
   },
   "outputs": [
    {
     "data": {
      "text/plain": [
       "663"
      ]
     },
     "execution_count": 5,
     "metadata": {},
     "output_type": "execute_result"
    }
   ],
   "source": [
    "len(train_doc)"
   ]
  },
  {
   "cell_type": "code",
   "execution_count": 6,
   "metadata": {
    "colab": {
     "base_uri": "https://localhost:8080/"
    },
    "id": "GoZcy2-lwk84",
    "outputId": "3dc103bb-2498-4bfa-98ba-829e0a389324"
   },
   "outputs": [
    {
     "data": {
      "text/plain": [
       "100"
      ]
     },
     "execution_count": 6,
     "metadata": {},
     "output_type": "execute_result"
    }
   ],
   "source": [
    "len(val_doc)"
   ]
  },
  {
   "cell_type": "code",
   "execution_count": 7,
   "metadata": {
    "id": "uhpFLjkdTZRd"
   },
   "outputs": [],
   "source": [
    "batch_size = 10 #experiment with the batch size"
   ]
  },
  {
   "cell_type": "markdown",
   "metadata": {
    "id": "xoiaNRl6xoO-"
   },
   "source": [
    "#PreProcessing"
   ]
  },
  {
   "cell_type": "code",
   "execution_count": 8,
   "metadata": {
    "id": "7brztSG2xk2D"
   },
   "outputs": [],
   "source": [
    "# Helper Functions and our current preprogessing pipeline\n",
    "# pre process ===> conbert_to_grayscale --> normalize_data\n",
    "\n",
    "# Convert to grayscale\n",
    "def convert_to_grayscale(data):\n",
    "    return data.mean(axis=-1,keepdims=1) \n",
    "\n",
    "def normalize_data(data):\n",
    "    return data/127.5-1\n",
    "\n",
    "def preprocess_pipeline(data):\n",
    "    return normalize_data(convert_to_grayscale(data))"
   ]
  },
  {
   "cell_type": "markdown",
   "metadata": {
    "id": "ZuM8w6zdx20l"
   },
   "source": [
    "#Generator"
   ]
  },
  {
   "cell_type": "markdown",
   "metadata": {
    "id": "DQQAs5k7ymz-"
   },
   "source": [
    "This is one of the most important part of the code. The overall structure of the generator has been given. In the generator, you are going to preprocess the images as you have images of 2 different dimensions as well as create a batch of video frames. You have to experiment with img_idx, y,z and normalization such that you get high accuracy."
   ]
  },
  {
   "cell_type": "code",
   "execution_count": 9,
   "metadata": {
    "id": "LuFqGJUGxy9F"
   },
   "outputs": [],
   "source": [
    "def generator(source_path, folder_list, batch_size):\n",
    "    x = 30 # number of frames\n",
    "    y = 120 # image width\n",
    "    z = 120 # image height\n",
    "\n",
    "    print( 'Source path = ', source_path, '; batch size =', batch_size)\n",
    "    \n",
    "    img_idx = [x for x in range(0,x)] #create a list of image numbers you want to use for a particular video\n",
    "    while True:\n",
    "        t = np.random.permutation(folder_list)\n",
    "        num_batches = len(folder_list)//batch_size # calculate the number of batches\n",
    "        for batch in range(num_batches): # we iterate over the number of batches\n",
    "            batch_data = np.zeros((batch_size,x,y,z,3)) # x is the number of images you use for each video, (y,z) is the final size of the input images and 3 is the number of channels RGB\n",
    "            batch_labels = np.zeros((batch_size,5)) # batch_labels is the one hot representation of the output\n",
    "            for folder in range(batch_size): # iterate over the batch_size\n",
    "                imgs = os.listdir(source_path+'/'+ t[folder + (batch*batch_size)].split(';')[0]) # read all the images in the folder\n",
    "                for idx,item in enumerate(img_idx): #  Iterate iver the frames/images of a folder to read them in\n",
    "                    image = imread(source_path+'/'+ t[folder + (batch*batch_size)].strip().split(';')[0]+'/'+imgs[item]).astype(np.float32)\n",
    "                    \n",
    "                    #crop the images and resize them. Note that the images are of 2 different shape \n",
    "                    #and the conv3D will throw error if the inputs in a batch have different shapes\n",
    "                    temp = imresize(image,(120,120))\n",
    "                    temp = normalize_data(temp)\n",
    "\n",
    "                    \n",
    "                    batch_data[folder,idx,:,:,0] = (temp[:,:,0])#normalise and feed in the image\n",
    "                    batch_data[folder,idx,:,:,1] = (temp[:,:,1])#normalise and feed in the image\n",
    "                    batch_data[folder,idx,:,:,2] = (temp[:,:,2])#normalise and feed in the image\n",
    "                    \n",
    "                batch_labels[folder, int(t[folder + (batch*batch_size)].strip().split(';')[2])] = 1\n",
    "            yield batch_data, batch_labels #you yield the batch_data and the batch_labels, remember what does yield do\n",
    "\n",
    "        \n",
    "        # write the code for the remaining data points which are left after full batches\n",
    "        \n",
    "        if (len(folder_list) != batch_size*num_batches):\n",
    "            print(\"Batch: \",num_batches+1,\"Index:\", batch_size)\n",
    "            batch_size = len(folder_list) - (batch_size*num_batches)\n",
    "            batch_data = np.zeros((batch_size,x,y,z,c)) # x is the number of images you use for each video, (y,z) is the final size of the input images and 3 is the number of channels RGB\n",
    "            batch_labels = np.zeros((batch_size,5)) # batch_labels is the one hot representation of the output\n",
    "            for folder in range(batch_size): # iterate over the batch_size\n",
    "                imgs = os.listdir(source_path+'/'+ t[folder + (batch*batch_size)].split(';')[0]) # read all the images in the folder\n",
    "                for idx,item in enumerate(img_idx): #  Iterate iver the frames/images of a folder to read them in\n",
    "                    image = imread(source_path+'/'+ t[folder + (batch*batch_size)].strip().split(';')[0]+'/'+imgs[item]).astype(np.float32)\n",
    "                    \n",
    "                    #crop the images and resize them. Note that the images are of 2 different shape \n",
    "                    #and the conv3D will throw error if the inputs in a batch have different shapes\n",
    "                    temp = imresize(image,(120,120))\n",
    "                    temp = normalize_data(temp)\n",
    "                    \n",
    "                    batch_data[folder,idx,:,:,0] = (temp[:,:,0])\n",
    "                    batch_data[folder,idx,:,:,1] = (temp[:,:,1])\n",
    "                    batch_data[folder,idx,:,:,2] = (temp[:,:,2])\n",
    "                   \n",
    "                batch_labels[folder, int(t[folder + (batch*batch_size)].strip().split(';')[2])] = 1\n",
    "            yield batch_data, batch_labels \n",
    "        "
   ]
  },
  {
   "cell_type": "code",
   "execution_count": 10,
   "metadata": {
    "colab": {
     "base_uri": "https://localhost:8080/"
    },
    "id": "rpp2DBDRRlzS",
    "outputId": "7655c6bc-a56e-4919-dc41-28a74b562b9a"
   },
   "outputs": [
    {
     "name": "stdout",
     "output_type": "stream",
     "text": [
      "# training sequences = 663\n",
      "# validation sequences = 100\n",
      "# epochs = 10\n"
     ]
    }
   ],
   "source": [
    "curr_dt_time = datetime.datetime.now()\n",
    "train_path = 'datasets/Project_data/train'\n",
    "val_path = 'datasets/Project_data/val'\n",
    "num_train_sequences = len(train_doc)\n",
    "print('# training sequences =', num_train_sequences)\n",
    "num_val_sequences = len(val_doc)\n",
    "print('# validation sequences =', num_val_sequences)\n",
    "num_epochs = 10 # choose the number of epochs\n",
    "print ('# epochs =', num_epochs)"
   ]
  },
  {
   "cell_type": "code",
   "execution_count": 11,
   "metadata": {
    "id": "FyZY0CiOR5e5"
   },
   "outputs": [],
   "source": [
    "c = 3\n",
    "\n",
    "nb_filters = [8,16,32,64]\n",
    "nb_dense = [1000, 500, 5]\n",
    "input_shape = (30, 120, 120, c)"
   ]
  },
  {
   "cell_type": "markdown",
   "metadata": {
    "id": "YxAkn6E1SjRC"
   },
   "source": [
    "## Model\n",
    "Here you make the model using different functionalities that Keras provides. Remember to use `Conv3D` and `MaxPooling3D` and not `Conv2D` and `Maxpooling2D` for a 3D convolution model. You would want to use `TimeDistributed` while building a Conv2D + RNN model. Also remember that the last layer is the softmax. Design the network in such a way that the model is able to give good accuracy on the least number of parameters so that it can fit in the memory of the webcam."
   ]
  },
  {
   "cell_type": "code",
   "execution_count": 12,
   "metadata": {
    "id": "XQ_U4rEoSeUf"
   },
   "outputs": [],
   "source": [
    "from keras.models import Sequential, Model\n",
    "from keras.layers import Dense, GRU, Flatten, TimeDistributed, Flatten, BatchNormalization, Activation, Dropout\n",
    "from keras.layers.convolutional import Conv3D, MaxPooling3D\n",
    "from keras.callbacks import ModelCheckpoint, ReduceLROnPlateau\n",
    "from keras import optimizers"
   ]
  },
  {
   "cell_type": "code",
   "execution_count": 13,
   "metadata": {
    "id": "uLgPs230Snx4"
   },
   "outputs": [
    {
     "name": "stderr",
     "output_type": "stream",
     "text": [
      "2022-05-18 13:53:31.812043: W tensorflow/core/common_runtime/gpu/gpu_bfc_allocator.cc:39] Overriding allow_growth setting because the TF_FORCE_GPU_ALLOW_GROWTH environment variable is set. Original config value was 0.\n",
      "2022-05-18 13:53:31.812106: I tensorflow/core/common_runtime/gpu/gpu_device.cc:1525] Created device /job:localhost/replica:0/task:0/device:GPU:0 with 12104 MB memory:  -> device: 0, name: NVIDIA RTX A6000, pci bus id: 0000:88:00.0, compute capability: 8.6\n"
     ]
    }
   ],
   "source": [
    "\n",
    "\n",
    "#write your model here\n",
    "\n",
    "model_a = Sequential()\n",
    "\n",
    "model_a.add(Conv3D(nb_filters[0], \n",
    "                 kernel_size=(3,3,3), \n",
    "                 input_shape=input_shape,\n",
    "                 padding='same'))\n",
    "model_a.add(BatchNormalization())\n",
    "model_a.add(Activation('relu'))\n",
    "\n",
    "model_a.add(MaxPooling3D(pool_size=(2,2,2)))\n",
    "\n",
    "model_a.add(Conv3D(nb_filters[1], \n",
    "                 kernel_size=(3,3,3), \n",
    "                 padding='same'))\n",
    "model_a.add(BatchNormalization())\n",
    "model_a.add(Activation('relu'))\n",
    "\n",
    "model_a.add(MaxPooling3D(pool_size=(2,2,2)))\n",
    "\n",
    "model_a.add(Conv3D(nb_filters[2], \n",
    "                 kernel_size=(1,3,3), \n",
    "                 padding='same'))\n",
    "model_a.add(BatchNormalization())\n",
    "model_a.add(Activation('relu'))\n",
    "\n",
    "model_a.add(MaxPooling3D(pool_size=(2,2,2)))\n",
    "\n",
    "model_a.add(Conv3D(nb_filters[3], \n",
    "                 kernel_size=(1,3,3), \n",
    "                 padding='same'))\n",
    "model_a.add(BatchNormalization())\n",
    "model_a.add(Activation('relu'))\n",
    "\n",
    "model_a.add(MaxPooling3D(pool_size=(2,2,2)))\n",
    "\n",
    "#Flatten Layers\n",
    "model_a.add(Flatten())\n",
    "\n",
    "model_a.add(Dense(nb_dense[0], activation='relu'))\n",
    "model_a.add(Dropout(0.5))\n",
    "\n",
    "model_a.add(Dense(nb_dense[1], activation='relu'))\n",
    "model_a.add(Dropout(0.5))\n",
    "\n",
    "#softmax layer\n",
    "model_a.add(Dense(nb_dense[2], activation='softmax'))\n"
   ]
  },
  {
   "cell_type": "markdown",
   "metadata": {
    "id": "Wub45rNTS-k3"
   },
   "source": [
    "Now that you have written the model, the next step is to `compile` the model. When you print the `summary` of the model, you'll see the total number of parameters you have to train."
   ]
  },
  {
   "cell_type": "code",
   "execution_count": 14,
   "metadata": {
    "colab": {
     "base_uri": "https://localhost:8080/"
    },
    "id": "4_dZhjpXS5FI",
    "outputId": "603bed3f-8cb8-4622-d4cc-8a8f9c00594e"
   },
   "outputs": [
    {
     "name": "stdout",
     "output_type": "stream",
     "text": [
      "Model: \"sequential\"\n",
      "_________________________________________________________________\n",
      " Layer (type)                Output Shape              Param #   \n",
      "=================================================================\n",
      " conv3d (Conv3D)             (None, 30, 120, 120, 8)   656       \n",
      "                                                                 \n",
      " batch_normalization (BatchN  (None, 30, 120, 120, 8)  32        \n",
      " ormalization)                                                   \n",
      "                                                                 \n",
      " activation (Activation)     (None, 30, 120, 120, 8)   0         \n",
      "                                                                 \n",
      " max_pooling3d (MaxPooling3D  (None, 15, 60, 60, 8)    0         \n",
      " )                                                               \n",
      "                                                                 \n",
      " conv3d_1 (Conv3D)           (None, 15, 60, 60, 16)    3472      \n",
      "                                                                 \n",
      " batch_normalization_1 (Batc  (None, 15, 60, 60, 16)   64        \n",
      " hNormalization)                                                 \n",
      "                                                                 \n",
      " activation_1 (Activation)   (None, 15, 60, 60, 16)    0         \n",
      "                                                                 \n",
      " max_pooling3d_1 (MaxPooling  (None, 7, 30, 30, 16)    0         \n",
      " 3D)                                                             \n",
      "                                                                 \n",
      " conv3d_2 (Conv3D)           (None, 7, 30, 30, 32)     4640      \n",
      "                                                                 \n",
      " batch_normalization_2 (Batc  (None, 7, 30, 30, 32)    128       \n",
      " hNormalization)                                                 \n",
      "                                                                 \n",
      " activation_2 (Activation)   (None, 7, 30, 30, 32)     0         \n",
      "                                                                 \n",
      " max_pooling3d_2 (MaxPooling  (None, 3, 15, 15, 32)    0         \n",
      " 3D)                                                             \n",
      "                                                                 \n",
      " conv3d_3 (Conv3D)           (None, 3, 15, 15, 64)     18496     \n",
      "                                                                 \n",
      " batch_normalization_3 (Batc  (None, 3, 15, 15, 64)    256       \n",
      " hNormalization)                                                 \n",
      "                                                                 \n",
      " activation_3 (Activation)   (None, 3, 15, 15, 64)     0         \n",
      "                                                                 \n",
      " max_pooling3d_3 (MaxPooling  (None, 1, 7, 7, 64)      0         \n",
      " 3D)                                                             \n",
      "                                                                 \n",
      " flatten (Flatten)           (None, 3136)              0         \n",
      "                                                                 \n",
      " dense (Dense)               (None, 1000)              3137000   \n",
      "                                                                 \n",
      " dropout (Dropout)           (None, 1000)              0         \n",
      "                                                                 \n",
      " dense_1 (Dense)             (None, 500)               500500    \n",
      "                                                                 \n",
      " dropout_1 (Dropout)         (None, 500)               0         \n",
      "                                                                 \n",
      " dense_2 (Dense)             (None, 5)                 2505      \n",
      "                                                                 \n",
      "=================================================================\n",
      "Total params: 3,667,749\n",
      "Trainable params: 3,667,509\n",
      "Non-trainable params: 240\n",
      "_________________________________________________________________\n",
      "None\n"
     ]
    }
   ],
   "source": [
    "model_a.compile(optimizer= 'adam', loss='categorical_crossentropy', metrics=['categorical_accuracy'])\n",
    "print (model_a.summary())"
   ]
  },
  {
   "cell_type": "markdown",
   "metadata": {
    "id": "0g4vSnn_TKRr"
   },
   "source": [
    "Let us create the `train_generator` and the `val_generator` which will be used in `.fit_generator`."
   ]
  },
  {
   "cell_type": "code",
   "execution_count": 15,
   "metadata": {
    "id": "OgyeRKX3TEei"
   },
   "outputs": [],
   "source": [
    "train_generator = generator(train_path, train_doc, batch_size)\n",
    "val_generator = generator(val_path, val_doc, batch_size)"
   ]
  },
  {
   "cell_type": "code",
   "execution_count": 16,
   "metadata": {
    "colab": {
     "base_uri": "https://localhost:8080/"
    },
    "id": "bVQc4AvCTMxO",
    "outputId": "4efbde08-5b02-4d32-f5be-49a44e1c223a"
   },
   "outputs": [
    {
     "name": "stdout",
     "output_type": "stream",
     "text": [
      "WARNING:tensorflow:`period` argument is deprecated. Please use `save_freq` to specify the frequency in number of batches seen.\n"
     ]
    }
   ],
   "source": [
    "model_name = 'model_init' + '_' + str(curr_dt_time).replace(' ','').replace(':','_') + '/'\n",
    "    \n",
    "if not os.path.exists(model_name):\n",
    "    os.mkdir(model_name)\n",
    "        \n",
    "filepath = model_name + 'model-{epoch:05d}-{loss:.5f}-{categorical_accuracy:.5f}-{val_loss:.5f}-{val_categorical_accuracy:.5f}.h5'\n",
    "\n",
    "checkpoint = ModelCheckpoint(filepath, monitor='val_loss', verbose=1, save_best_only=False, save_weights_only=False, mode='auto', period=1)\n",
    "\n",
    "LR = ReduceLROnPlateau(monitor='val_loss', factor=0.5, patience=2, cooldown=1, verbose=1)# write the Reducelronplateau code here\n",
    "callbacks_list = [checkpoint, LR]"
   ]
  },
  {
   "cell_type": "markdown",
   "metadata": {
    "id": "yJW1odbNTq5Z"
   },
   "source": [
    "The `steps_per_epoch` and `validation_steps` are used by `fit_generator` to decide the number of next() calls it need to make."
   ]
  },
  {
   "cell_type": "code",
   "execution_count": 17,
   "metadata": {
    "id": "Azn_fIXfTj3M"
   },
   "outputs": [],
   "source": [
    "if (num_train_sequences%batch_size) == 0:\n",
    "    steps_per_epoch = int(num_train_sequences/batch_size)\n",
    "else:\n",
    "    steps_per_epoch = (num_train_sequences//batch_size) + 1\n",
    "\n",
    "if (num_val_sequences%batch_size) == 0:\n",
    "    validation_steps = int(num_val_sequences/batch_size)\n",
    "else:\n",
    "    validation_steps = (num_val_sequences//batch_size) + 1"
   ]
  },
  {
   "cell_type": "code",
   "execution_count": 18,
   "metadata": {
    "colab": {
     "base_uri": "https://localhost:8080/"
    },
    "id": "anxhAhB1TzbC",
    "outputId": "c43645ad-2401-43cf-e177-802884f48f34"
   },
   "outputs": [
    {
     "data": {
      "text/plain": [
       "67"
      ]
     },
     "execution_count": 18,
     "metadata": {},
     "output_type": "execute_result"
    }
   ],
   "source": [
    "steps_per_epoch"
   ]
  },
  {
   "cell_type": "code",
   "execution_count": 19,
   "metadata": {
    "colab": {
     "base_uri": "https://localhost:8080/"
    },
    "id": "yIhWCnflTwcY",
    "outputId": "fb081ee0-931a-4f6f-d700-730ea449510e"
   },
   "outputs": [
    {
     "data": {
      "text/plain": [
       "10"
      ]
     },
     "execution_count": 19,
     "metadata": {},
     "output_type": "execute_result"
    }
   ],
   "source": [
    "validation_steps"
   ]
  },
  {
   "cell_type": "markdown",
   "metadata": {
    "id": "5wUFQoLOT8Qt"
   },
   "source": [
    "Let us now fit the model. This will start training the model and with the help of the checkpoints, you'll be able to save the model at the end of each epoch."
   ]
  },
  {
   "cell_type": "code",
   "execution_count": 20,
   "metadata": {
    "colab": {
     "base_uri": "https://localhost:8080/",
     "height": 570
    },
    "id": "6xFjveQoT36z",
    "outputId": "22fb324e-bd4d-4a64-98a7-c9da129a73e2"
   },
   "outputs": [
    {
     "name": "stderr",
     "output_type": "stream",
     "text": [
      "/tmp/ipykernel_389/3707964710.py:1: UserWarning: `Model.fit_generator` is deprecated and will be removed in a future version. Please use `Model.fit`, which supports generators.\n",
      "  model_a.fit_generator(train_generator\n",
      "/tmp/ipykernel_389/3762286381.py:18: DeprecationWarning:     `imread` is deprecated!\n",
      "    `imread` is deprecated in SciPy 1.0.0, and will be removed in 1.2.0.\n",
      "    Use ``imageio.imread`` instead.\n",
      "  image = imread(source_path+'/'+ t[folder + (batch*batch_size)].strip().split(';')[0]+'/'+imgs[item]).astype(np.float32)\n"
     ]
    },
    {
     "name": "stdout",
     "output_type": "stream",
     "text": [
      "Source path =  datasets/Project_data/train ; batch size = 10\n"
     ]
    },
    {
     "name": "stderr",
     "output_type": "stream",
     "text": [
      "/tmp/ipykernel_389/3762286381.py:22: DeprecationWarning:     `imresize` is deprecated!\n",
      "    `imresize` is deprecated in SciPy 1.0.0, and will be removed in 1.2.0.\n",
      "    Use ``skimage.transform.resize`` instead.\n",
      "  temp = imresize(image,(120,120))\n"
     ]
    },
    {
     "name": "stdout",
     "output_type": "stream",
     "text": [
      "Epoch 1/10\n"
     ]
    },
    {
     "name": "stderr",
     "output_type": "stream",
     "text": [
      "2022-05-18 13:53:34.814203: I tensorflow/stream_executor/cuda/cuda_dnn.cc:377] Loaded cuDNN version 8302\n",
      "2022-05-18 13:53:36.674983: I tensorflow/stream_executor/cuda/cuda_blas.cc:1792] TensorFloat-32 will be used for the matrix multiplication. This will only be logged once.\n"
     ]
    },
    {
     "name": "stdout",
     "output_type": "stream",
     "text": [
      "65/67 [============================>.] - ETA: 2s - loss: 5.0288 - categorical_accuracy: 0.2508Batch:  67 Index: 10\n",
      "66/67 [============================>.] - ETA: 1s - loss: 4.9773 - categorical_accuracy: 0.2515"
     ]
    },
    {
     "name": "stderr",
     "output_type": "stream",
     "text": [
      "/tmp/ipykernel_389/3762286381.py:44: DeprecationWarning:     `imread` is deprecated!\n",
      "    `imread` is deprecated in SciPy 1.0.0, and will be removed in 1.2.0.\n",
      "    Use ``imageio.imread`` instead.\n",
      "  image = imread(source_path+'/'+ t[folder + (batch*batch_size)].strip().split(';')[0]+'/'+imgs[item]).astype(np.float32)\n",
      "/tmp/ipykernel_389/3762286381.py:48: DeprecationWarning:     `imresize` is deprecated!\n",
      "    `imresize` is deprecated in SciPy 1.0.0, and will be removed in 1.2.0.\n",
      "    Use ``skimage.transform.resize`` instead.\n",
      "  temp = imresize(image,(120,120))\n"
     ]
    },
    {
     "name": "stdout",
     "output_type": "stream",
     "text": [
      "67/67 [==============================] - ETA: 0s - loss: 4.9657 - categorical_accuracy: 0.2504Source path =  datasets/Project_data/val ; batch size = 10\n",
      "\n",
      "Epoch 00001: saving model to model_init_2022-05-1813_53_31.147025/model-00001-4.96570-0.25038-1.85923-0.32000.h5\n",
      "67/67 [==============================] - 90s 1s/step - loss: 4.9657 - categorical_accuracy: 0.2504 - val_loss: 1.8592 - val_categorical_accuracy: 0.3200 - lr: 0.0010\n",
      "Epoch 2/10\n",
      "67/67 [==============================] - ETA: 0s - loss: 2.2392 - categorical_accuracy: 0.2488\n",
      "Epoch 00002: saving model to model_init_2022-05-1813_53_31.147025/model-00002-2.23923-0.24876-1.33031-0.47000.h5\n",
      "67/67 [==============================] - 35s 531ms/step - loss: 2.2392 - categorical_accuracy: 0.2488 - val_loss: 1.3303 - val_categorical_accuracy: 0.4700 - lr: 0.0010\n",
      "Epoch 3/10\n",
      "67/67 [==============================] - ETA: 0s - loss: 1.8633 - categorical_accuracy: 0.2886\n",
      "Epoch 00003: saving model to model_init_2022-05-1813_53_31.147025/model-00003-1.86333-0.28856-1.42625-0.41000.h5\n",
      "67/67 [==============================] - 36s 546ms/step - loss: 1.8633 - categorical_accuracy: 0.2886 - val_loss: 1.4262 - val_categorical_accuracy: 0.4100 - lr: 0.0010\n",
      "Epoch 4/10\n",
      "67/67 [==============================] - ETA: 0s - loss: 1.5746 - categorical_accuracy: 0.3532\n",
      "Epoch 00004: saving model to model_init_2022-05-1813_53_31.147025/model-00004-1.57462-0.35323-1.28124-0.55000.h5\n",
      "67/67 [==============================] - 33s 501ms/step - loss: 1.5746 - categorical_accuracy: 0.3532 - val_loss: 1.2812 - val_categorical_accuracy: 0.5500 - lr: 0.0010\n",
      "Epoch 5/10\n",
      "67/67 [==============================] - ETA: 0s - loss: 1.5729 - categorical_accuracy: 0.2786\n",
      "Epoch 00005: saving model to model_init_2022-05-1813_53_31.147025/model-00005-1.57295-0.27861-1.46312-0.44000.h5\n",
      "67/67 [==============================] - 34s 517ms/step - loss: 1.5729 - categorical_accuracy: 0.2786 - val_loss: 1.4631 - val_categorical_accuracy: 0.4400 - lr: 0.0010\n",
      "Epoch 6/10\n",
      "67/67 [==============================] - ETA: 0s - loss: 1.5183 - categorical_accuracy: 0.3582\n",
      "Epoch 00006: saving model to model_init_2022-05-1813_53_31.147025/model-00006-1.51831-0.35821-1.42732-0.44000.h5\n",
      "\n",
      "Epoch 00006: ReduceLROnPlateau reducing learning rate to 0.0005000000237487257.\n",
      "67/67 [==============================] - 34s 522ms/step - loss: 1.5183 - categorical_accuracy: 0.3582 - val_loss: 1.4273 - val_categorical_accuracy: 0.4400 - lr: 0.0010\n",
      "Epoch 7/10\n",
      "67/67 [==============================] - ETA: 0s - loss: 1.4670 - categorical_accuracy: 0.3085\n",
      "Epoch 00007: saving model to model_init_2022-05-1813_53_31.147025/model-00007-1.46695-0.30846-1.36655-0.43000.h5\n",
      "67/67 [==============================] - 33s 498ms/step - loss: 1.4670 - categorical_accuracy: 0.3085 - val_loss: 1.3666 - val_categorical_accuracy: 0.4300 - lr: 5.0000e-04\n",
      "Epoch 8/10\n",
      "67/67 [==============================] - ETA: 0s - loss: 1.3836 - categorical_accuracy: 0.4179\n",
      "Epoch 00008: saving model to model_init_2022-05-1813_53_31.147025/model-00008-1.38365-0.41791-1.20776-0.45000.h5\n",
      "67/67 [==============================] - 32s 490ms/step - loss: 1.3836 - categorical_accuracy: 0.4179 - val_loss: 1.2078 - val_categorical_accuracy: 0.4500 - lr: 5.0000e-04\n",
      "Epoch 9/10\n",
      "67/67 [==============================] - ETA: 0s - loss: 1.3331 - categorical_accuracy: 0.4279\n",
      "Epoch 00009: saving model to model_init_2022-05-1813_53_31.147025/model-00009-1.33310-0.42786-1.11561-0.60000.h5\n",
      "67/67 [==============================] - 34s 519ms/step - loss: 1.3331 - categorical_accuracy: 0.4279 - val_loss: 1.1156 - val_categorical_accuracy: 0.6000 - lr: 5.0000e-04\n",
      "Epoch 10/10\n",
      "67/67 [==============================] - ETA: 0s - loss: 1.3053 - categorical_accuracy: 0.4577\n",
      "Epoch 00010: saving model to model_init_2022-05-1813_53_31.147025/model-00010-1.30530-0.45771-1.16960-0.51000.h5\n",
      "67/67 [==============================] - 33s 495ms/step - loss: 1.3053 - categorical_accuracy: 0.4577 - val_loss: 1.1696 - val_categorical_accuracy: 0.5100 - lr: 5.0000e-04\n"
     ]
    },
    {
     "data": {
      "text/plain": [
       "<keras.callbacks.History at 0x7f9b91bcf130>"
      ]
     },
     "execution_count": 20,
     "metadata": {},
     "output_type": "execute_result"
    }
   ],
   "source": [
    "model_a.fit_generator(train_generator\n",
    "                      , steps_per_epoch=steps_per_epoch, epochs=num_epochs, verbose=1, \n",
    "                callbacks=callbacks_list, validation_data=val_generator, \n",
    "                validation_steps=validation_steps, class_weight=None, workers=1, initial_epoch=0)"
   ]
  },
  {
   "cell_type": "code",
   "execution_count": 21,
   "metadata": {
    "id": "5uvXP1tsUA94"
   },
   "outputs": [],
   "source": [
    "nb_frames = 30 # number of frames\n",
    "nb_rows = 120 # image width\n",
    "nb_cols = 120 # image height \n",
    "\n",
    "nb_classes = 5\n",
    "nb_channel = 3"
   ]
  },
  {
   "cell_type": "code",
   "execution_count": 22,
   "metadata": {
    "id": "2otdFpWdW81r"
   },
   "outputs": [],
   "source": [
    "def new_generator(source_path, folder_list, batch_size):\n",
    "      \n",
    "    print( 'Source path = ', source_path, '; batch size =', batch_size)\n",
    "    img_idx = [x for x in range(0,nb_frames)] #create a list of image numbers you want to use for a particular video\n",
    "    while True:\n",
    "        t = np.random.permutation(folder_list)\n",
    "        num_batches = len(folder_list)//batch_size # calculate the number of batches\n",
    "        for batch in range(num_batches): # we iterate over the number of batches\n",
    "            batch_data = np.zeros((batch_size,nb_frames,nb_rows,nb_cols,nb_channel)) # x is the number of images you use for each video, (y,z) is the final size of the input images and 3 is the number of channels RGB\n",
    "            batch_labels = np.zeros((batch_size,5)) # batch_labels is the one hot representation of the output\n",
    "            for folder in range(batch_size): # iterate over the batch_size\n",
    "                imgs = os.listdir(source_path+'/'+ t[folder + (batch*batch_size)].split(';')[0]) # read all the images in the folder\n",
    "                for idx,item in enumerate(img_idx): #  Iterate iver the frames/images of a folder to read them in\n",
    "                    image = imread(source_path+'/'+ t[folder + (batch*batch_size)].strip().split(';')[0]+'/'+imgs[item]).astype(np.float32)\n",
    "                    \n",
    "                    #crop the images and resize them. Note that the images are of 2 different shape \n",
    "                    #and the conv3D will throw error if the inputs in a batch have different shapes\n",
    "                    temp = imresize(image,(nb_rows,nb_cols))\n",
    "                    #temp = normalize_data(temp)\n",
    "                    temp = preprocess_pipeline(temp)\n",
    "                    \n",
    "                    batch_data[folder,idx] = temp\n",
    "\n",
    "       \n",
    "                batch_labels[folder, int(t[folder + (batch*batch_size)].strip().split(';')[2])] = 1\n",
    "            yield batch_data, batch_labels #you yield the batch_data and the batch_labels, remember what does yield do\n",
    "\n",
    "        # write the code for the remaining data points which are left after full batches\n",
    "        if (len(folder_list) != batch_size*num_batches):\n",
    "            print(\"Batch: \",num_batches+1,\"Index:\", batch_size)\n",
    "            batch_size = len(folder_list) - (batch_size*num_batches)\n",
    "            batch_data = np.zeros((batch_size,nb_frames,nb_rows,nb_cols,nb_channel)) # x is the number of images you use for each video, (y,z) is the final size of the input images and 3 is the number of channels RGB\n",
    "            batch_labels = np.zeros((batch_size,5)) # batch_labels is the one hot representation of the output\n",
    "            for folder in range(batch_size): # iterate over the batch_size\n",
    "                imgs = os.listdir(source_path+'/'+ t[folder + (batch*batch_size)].split(';')[0]) # read all the images in the folder\n",
    "                for idx,item in enumerate(img_idx): #  Iterate iver the frames/images of a folder to read them in\n",
    "                    image = imread(source_path+'/'+ t[folder + (batch*batch_size)].strip().split(';')[0]+'/'+imgs[item]).astype(np.float32)\n",
    "                    \n",
    "                    #crop the images and resize them. Note that the images are of 2 different shape \n",
    "                    #and the conv3D will throw error if the inputs in a batch have different shapes\n",
    "                    temp = imresize(image,(nb_rows,nb_cols))\n",
    "                    #temp = normalize_data(temp)\n",
    "                    temp = preprocess_pipeline(temp)\n",
    "                    \n",
    "                    batch_data[folder,idx] = temp\n",
    "                   \n",
    "                batch_labels[folder, int(t[folder + (batch*batch_size)].strip().split(';')[2])] = 1\n",
    "            yield batch_data, batch_labels\n",
    "        \n",
    "  \n"
   ]
  },
  {
   "cell_type": "code",
   "execution_count": 23,
   "metadata": {},
   "outputs": [
    {
     "name": "stdout",
     "output_type": "stream",
     "text": [
      "Model: \"sequential_1\"\n",
      "_________________________________________________________________\n",
      " Layer (type)                Output Shape              Param #   \n",
      "=================================================================\n",
      " conv3d_4 (Conv3D)           (None, 30, 120, 120, 32)  2624      \n",
      "                                                                 \n",
      " activation_4 (Activation)   (None, 30, 120, 120, 32)  0         \n",
      "                                                                 \n",
      " conv3d_5 (Conv3D)           (None, 30, 120, 120, 32)  27680     \n",
      "                                                                 \n",
      " activation_5 (Activation)   (None, 30, 120, 120, 32)  0         \n",
      "                                                                 \n",
      " max_pooling3d_4 (MaxPooling  (None, 10, 40, 40, 32)   0         \n",
      " 3D)                                                             \n",
      "                                                                 \n",
      " dropout_2 (Dropout)         (None, 10, 40, 40, 32)    0         \n",
      "                                                                 \n",
      " conv3d_6 (Conv3D)           (None, 10, 40, 40, 64)    55360     \n",
      "                                                                 \n",
      " activation_6 (Activation)   (None, 10, 40, 40, 64)    0         \n",
      "                                                                 \n",
      " conv3d_7 (Conv3D)           (None, 10, 40, 40, 64)    110656    \n",
      "                                                                 \n",
      " activation_7 (Activation)   (None, 10, 40, 40, 64)    0         \n",
      "                                                                 \n",
      " max_pooling3d_5 (MaxPooling  (None, 4, 14, 14, 64)    0         \n",
      " 3D)                                                             \n",
      "                                                                 \n",
      " dropout_3 (Dropout)         (None, 4, 14, 14, 64)     0         \n",
      "                                                                 \n",
      " flatten_1 (Flatten)         (None, 50176)             0         \n",
      "                                                                 \n",
      " dense_3 (Dense)             (None, 512)               25690624  \n",
      "                                                                 \n",
      " dropout_4 (Dropout)         (None, 512)               0         \n",
      "                                                                 \n",
      " dense_4 (Dense)             (None, 5)                 2565      \n",
      "                                                                 \n",
      "=================================================================\n",
      "Total params: 25,889,509\n",
      "Trainable params: 25,889,509\n",
      "Non-trainable params: 0\n",
      "_________________________________________________________________\n"
     ]
    }
   ],
   "source": [
    "from keras.losses import categorical_crossentropy\n",
    "\n",
    "# Define model\n",
    "model_b = Sequential()\n",
    "model_b.add(Conv3D(32, kernel_size=(3, 3, 3), input_shape=(nb_frames,nb_rows,nb_cols,nb_channel), padding='same'))\n",
    "model_b.add(Activation('relu'))\n",
    "model_b.add(Conv3D(32, kernel_size=(3, 3, 3), padding='same'))\n",
    "model_b.add(Activation('relu'))\n",
    "model_b.add(MaxPooling3D(pool_size=(3, 3, 3), padding='same'))\n",
    "model_b.add(Dropout(0.25))\n",
    "\n",
    "model_b.add(Conv3D(64, kernel_size=(3, 3, 3), padding='same'))\n",
    "model_b.add(Activation('relu'))\n",
    "model_b.add(Conv3D(64, kernel_size=(3, 3, 3), padding='same'))\n",
    "model_b.add(Activation('relu'))\n",
    "model_b.add(MaxPooling3D(pool_size=(3, 3, 3), padding='same'))\n",
    "model_b.add(Dropout(0.25))\n",
    "\n",
    "model_b.add(Flatten())\n",
    "model_b.add(Dense(512, activation='relu'))\n",
    "model_b.add(Dropout(0.5))\n",
    "model_b.add(Dense(nb_classes, activation='softmax'))\n",
    "\n",
    "model_b.compile(optimizer='adam', loss='categorical_crossentropy', metrics=['categorical_accuracy'])\n",
    "model_b.summary()"
   ]
  },
  {
   "cell_type": "code",
   "execution_count": 24,
   "metadata": {},
   "outputs": [],
   "source": [
    "train_generator = new_generator(train_path, train_doc, batch_size)\n",
    "val_generator = new_generator(val_path, val_doc, batch_size)"
   ]
  },
  {
   "cell_type": "code",
   "execution_count": 25,
   "metadata": {},
   "outputs": [
    {
     "name": "stdout",
     "output_type": "stream",
     "text": [
      "Source path =  datasets/Project_data/train ; batch size = 10\n"
     ]
    },
    {
     "name": "stderr",
     "output_type": "stream",
     "text": [
      "/tmp/ipykernel_389/3161962229.py:1: UserWarning: `Model.fit_generator` is deprecated and will be removed in a future version. Please use `Model.fit`, which supports generators.\n",
      "  model_b.fit_generator(train_generator, steps_per_epoch=steps_per_epoch, epochs=num_epochs, verbose=1,\n",
      "/tmp/ipykernel_389/455585104.py:14: DeprecationWarning:     `imread` is deprecated!\n",
      "    `imread` is deprecated in SciPy 1.0.0, and will be removed in 1.2.0.\n",
      "    Use ``imageio.imread`` instead.\n",
      "  image = imread(source_path+'/'+ t[folder + (batch*batch_size)].strip().split(';')[0]+'/'+imgs[item]).astype(np.float32)\n",
      "/tmp/ipykernel_389/455585104.py:18: DeprecationWarning:     `imresize` is deprecated!\n",
      "    `imresize` is deprecated in SciPy 1.0.0, and will be removed in 1.2.0.\n",
      "    Use ``skimage.transform.resize`` instead.\n",
      "  temp = imresize(image,(nb_rows,nb_cols))\n"
     ]
    },
    {
     "name": "stdout",
     "output_type": "stream",
     "text": [
      "Epoch 1/10\n",
      "65/67 [============================>.] - ETA: 2s - loss: 2.0099 - categorical_accuracy: 0.2062Batch:  67 Index: 10\n",
      "66/67 [============================>.] - ETA: 1s - loss: 2.0038 - categorical_accuracy: 0.2061"
     ]
    },
    {
     "name": "stderr",
     "output_type": "stream",
     "text": [
      "/tmp/ipykernel_389/455585104.py:37: DeprecationWarning:     `imread` is deprecated!\n",
      "    `imread` is deprecated in SciPy 1.0.0, and will be removed in 1.2.0.\n",
      "    Use ``imageio.imread`` instead.\n",
      "  image = imread(source_path+'/'+ t[folder + (batch*batch_size)].strip().split(';')[0]+'/'+imgs[item]).astype(np.float32)\n",
      "/tmp/ipykernel_389/455585104.py:41: DeprecationWarning:     `imresize` is deprecated!\n",
      "    `imresize` is deprecated in SciPy 1.0.0, and will be removed in 1.2.0.\n",
      "    Use ``skimage.transform.resize`` instead.\n",
      "  temp = imresize(image,(nb_rows,nb_cols))\n"
     ]
    },
    {
     "name": "stdout",
     "output_type": "stream",
     "text": [
      "67/67 [==============================] - ETA: 0s - loss: 2.0021 - categorical_accuracy: 0.2051Source path =  datasets/Project_data/val ; batch size = 10\n",
      "\n",
      "Epoch 00001: saving model to model_init_2022-05-1813_53_31.147025/model-00001-2.00211-0.20513-1.60898-0.23000.h5\n",
      "67/67 [==============================] - 95s 1s/step - loss: 2.0021 - categorical_accuracy: 0.2051 - val_loss: 1.6090 - val_categorical_accuracy: 0.2300 - lr: 0.0010\n",
      "Epoch 2/10\n",
      "67/67 [==============================] - ETA: 0s - loss: 1.6108 - categorical_accuracy: 0.1940\n",
      "Epoch 00002: saving model to model_init_2022-05-1813_53_31.147025/model-00002-1.61085-0.19403-1.60907-0.17000.h5\n",
      "67/67 [==============================] - 38s 560ms/step - loss: 1.6108 - categorical_accuracy: 0.1940 - val_loss: 1.6091 - val_categorical_accuracy: 0.1700 - lr: 0.0010\n",
      "Epoch 3/10\n",
      "67/67 [==============================] - ETA: 0s - loss: 1.6105 - categorical_accuracy: 0.1990\n",
      "Epoch 00003: saving model to model_init_2022-05-1813_53_31.147025/model-00003-1.61050-0.19900-1.60998-0.20000.h5\n",
      "\n",
      "Epoch 00003: ReduceLROnPlateau reducing learning rate to 0.0005000000237487257.\n",
      "67/67 [==============================] - 38s 582ms/step - loss: 1.6105 - categorical_accuracy: 0.1990 - val_loss: 1.6100 - val_categorical_accuracy: 0.2000 - lr: 0.0010\n",
      "Epoch 4/10\n",
      "67/67 [==============================] - ETA: 0s - loss: 1.6098 - categorical_accuracy: 0.1542\n",
      "Epoch 00004: saving model to model_init_2022-05-1813_53_31.147025/model-00004-1.60977-0.15423-1.60852-0.20000.h5\n",
      "67/67 [==============================] - 37s 563ms/step - loss: 1.6098 - categorical_accuracy: 0.1542 - val_loss: 1.6085 - val_categorical_accuracy: 0.2000 - lr: 5.0000e-04\n",
      "Epoch 5/10\n",
      "67/67 [==============================] - ETA: 0s - loss: 1.6096 - categorical_accuracy: 0.1791\n",
      "Epoch 00005: saving model to model_init_2022-05-1813_53_31.147025/model-00005-1.60957-0.17910-1.60901-0.20000.h5\n",
      "67/67 [==============================] - 36s 549ms/step - loss: 1.6096 - categorical_accuracy: 0.1791 - val_loss: 1.6090 - val_categorical_accuracy: 0.2000 - lr: 5.0000e-04\n",
      "Epoch 6/10\n",
      "67/67 [==============================] - ETA: 0s - loss: 1.6097 - categorical_accuracy: 0.1592\n",
      "Epoch 00006: saving model to model_init_2022-05-1813_53_31.147025/model-00006-1.60967-0.15920-1.60970-0.20000.h5\n",
      "\n",
      "Epoch 00006: ReduceLROnPlateau reducing learning rate to 0.0002500000118743628.\n",
      "67/67 [==============================] - 46s 690ms/step - loss: 1.6097 - categorical_accuracy: 0.1592 - val_loss: 1.6097 - val_categorical_accuracy: 0.2000 - lr: 5.0000e-04\n",
      "Epoch 7/10\n",
      "67/67 [==============================] - ETA: 0s - loss: 1.6086 - categorical_accuracy: 0.2338\n",
      "Epoch 00007: saving model to model_init_2022-05-1813_53_31.147025/model-00007-1.60863-0.23383-1.60723-0.28000.h5\n",
      "67/67 [==============================] - 36s 545ms/step - loss: 1.6086 - categorical_accuracy: 0.2338 - val_loss: 1.6072 - val_categorical_accuracy: 0.2800 - lr: 2.5000e-04\n",
      "Epoch 8/10\n",
      "67/67 [==============================] - ETA: 0s - loss: 1.6090 - categorical_accuracy: 0.2139\n",
      "Epoch 00008: saving model to model_init_2022-05-1813_53_31.147025/model-00008-1.60904-0.21393-1.60903-0.18000.h5\n",
      "67/67 [==============================] - 37s 556ms/step - loss: 1.6090 - categorical_accuracy: 0.2139 - val_loss: 1.6090 - val_categorical_accuracy: 0.1800 - lr: 2.5000e-04\n",
      "Epoch 9/10\n",
      "67/67 [==============================] - ETA: 0s - loss: 1.6088 - categorical_accuracy: 0.1791\n",
      "Epoch 00009: saving model to model_init_2022-05-1813_53_31.147025/model-00009-1.60882-0.17910-1.60849-0.25000.h5\n",
      "\n",
      "Epoch 00009: ReduceLROnPlateau reducing learning rate to 0.0001250000059371814.\n",
      "67/67 [==============================] - 37s 566ms/step - loss: 1.6088 - categorical_accuracy: 0.1791 - val_loss: 1.6085 - val_categorical_accuracy: 0.2500 - lr: 2.5000e-04\n",
      "Epoch 10/10\n",
      "67/67 [==============================] - ETA: 0s - loss: 1.6099 - categorical_accuracy: 0.1841\n",
      "Epoch 00010: saving model to model_init_2022-05-1813_53_31.147025/model-00010-1.60987-0.18408-1.61044-0.16000.h5\n",
      "67/67 [==============================] - 39s 586ms/step - loss: 1.6099 - categorical_accuracy: 0.1841 - val_loss: 1.6104 - val_categorical_accuracy: 0.1600 - lr: 1.2500e-04\n"
     ]
    },
    {
     "data": {
      "text/plain": [
       "<keras.callbacks.History at 0x7f9b800ec190>"
      ]
     },
     "execution_count": 25,
     "metadata": {},
     "output_type": "execute_result"
    }
   ],
   "source": [
    "model_b.fit_generator(train_generator, steps_per_epoch=steps_per_epoch, epochs=num_epochs, verbose=1, \n",
    "                    callbacks=callbacks_list, validation_data=val_generator, \n",
    "                    validation_steps=validation_steps, class_weight=None, workers=1, initial_epoch=0)"
   ]
  },
  {
   "cell_type": "code",
   "execution_count": 26,
   "metadata": {},
   "outputs": [
    {
     "name": "stdout",
     "output_type": "stream",
     "text": [
      "Model: \"sequential_2\"\n",
      "_________________________________________________________________\n",
      " Layer (type)                Output Shape              Param #   \n",
      "=================================================================\n",
      " conv3d_8 (Conv3D)           (None, 30, 120, 120, 32)  2624      \n",
      "                                                                 \n",
      " activation_8 (Activation)   (None, 30, 120, 120, 32)  0         \n",
      "                                                                 \n",
      " conv3d_9 (Conv3D)           (None, 30, 120, 120, 32)  27680     \n",
      "                                                                 \n",
      " activation_9 (Activation)   (None, 30, 120, 120, 32)  0         \n",
      "                                                                 \n",
      " max_pooling3d_6 (MaxPooling  (None, 10, 40, 40, 32)   0         \n",
      " 3D)                                                             \n",
      "                                                                 \n",
      " dropout_5 (Dropout)         (None, 10, 40, 40, 32)    0         \n",
      "                                                                 \n",
      " conv3d_10 (Conv3D)          (None, 10, 40, 40, 64)    55360     \n",
      "                                                                 \n",
      " activation_10 (Activation)  (None, 10, 40, 40, 64)    0         \n",
      "                                                                 \n",
      " conv3d_11 (Conv3D)          (None, 10, 40, 40, 64)    110656    \n",
      "                                                                 \n",
      " activation_11 (Activation)  (None, 10, 40, 40, 64)    0         \n",
      "                                                                 \n",
      " max_pooling3d_7 (MaxPooling  (None, 4, 14, 14, 64)    0         \n",
      " 3D)                                                             \n",
      "                                                                 \n",
      " dropout_6 (Dropout)         (None, 4, 14, 14, 64)     0         \n",
      "                                                                 \n",
      " conv3d_12 (Conv3D)          (None, 4, 14, 14, 64)     110656    \n",
      "                                                                 \n",
      " activation_12 (Activation)  (None, 4, 14, 14, 64)     0         \n",
      "                                                                 \n",
      " conv3d_13 (Conv3D)          (None, 4, 14, 14, 64)     110656    \n",
      "                                                                 \n",
      " activation_13 (Activation)  (None, 4, 14, 14, 64)     0         \n",
      "                                                                 \n",
      " max_pooling3d_8 (MaxPooling  (None, 2, 5, 5, 64)      0         \n",
      " 3D)                                                             \n",
      "                                                                 \n",
      " dropout_7 (Dropout)         (None, 2, 5, 5, 64)       0         \n",
      "                                                                 \n",
      " flatten_2 (Flatten)         (None, 3200)              0         \n",
      "                                                                 \n",
      " dense_5 (Dense)             (None, 512)               1638912   \n",
      "                                                                 \n",
      " batch_normalization_4 (Batc  (None, 512)              2048      \n",
      " hNormalization)                                                 \n",
      "                                                                 \n",
      " dropout_8 (Dropout)         (None, 512)               0         \n",
      "                                                                 \n",
      " dense_6 (Dense)             (None, 5)                 2565      \n",
      "                                                                 \n",
      "=================================================================\n",
      "Total params: 2,061,157\n",
      "Trainable params: 2,060,133\n",
      "Non-trainable params: 1,024\n",
      "_________________________________________________________________\n"
     ]
    }
   ],
   "source": [
    "# Define model\n",
    "model_c = Sequential()\n",
    "model_c.add(Conv3D(32, kernel_size=(3, 3, 3), input_shape=(nb_frames,nb_rows,nb_cols,nb_channel), padding=\"same\"))\n",
    "model_c.add(Activation('relu'))\n",
    "model_c.add(Conv3D(32, padding=\"same\", kernel_size=(3, 3, 3)))\n",
    "model_c.add(Activation('relu'))\n",
    "model_c.add(MaxPooling3D(pool_size=(3, 3, 3), padding=\"same\"))\n",
    "model_c.add(Dropout(0.25))\n",
    "\n",
    "model_c.add(Conv3D(64, padding=\"same\", kernel_size=(3, 3, 3)))\n",
    "model_c.add(Activation('relu'))\n",
    "model_c.add(Conv3D(64, padding=\"same\", kernel_size=(3, 3, 3)))\n",
    "model_c.add(Activation('relu'))\n",
    "model_c.add(MaxPooling3D(pool_size=(3, 3, 3), padding=\"same\"))\n",
    "model_c.add(Dropout(0.25))\n",
    "\n",
    "model_c.add(Conv3D(64, padding=\"same\", kernel_size=(3, 3, 3)))\n",
    "model_c.add(Activation('relu'))\n",
    "model_c.add(Conv3D(64, padding=\"same\", kernel_size=(3, 3, 3)))\n",
    "model_c.add(Activation('relu'))\n",
    "model_c.add(MaxPooling3D(pool_size=(3, 3, 3), padding=\"same\"))\n",
    "model_c.add(Dropout(0.25))\n",
    "\n",
    "model_c.add(Flatten())\n",
    "model_c.add(Dense(512, activation='relu'))\n",
    "model_c.add(BatchNormalization())\n",
    "model_c.add(Dropout(0.5))\n",
    "model_c.add(Dense(nb_classes, activation='softmax'))\n",
    "model_c.compile(optimizer='adam', loss='categorical_crossentropy', metrics=['categorical_accuracy'])\n",
    "model_c.summary()\n"
   ]
  },
  {
   "cell_type": "code",
   "execution_count": 27,
   "metadata": {},
   "outputs": [],
   "source": [
    "train_generator = new_generator(train_path, train_doc, batch_size)\n",
    "val_generator = new_generator(val_path, val_doc, batch_size)"
   ]
  },
  {
   "cell_type": "code",
   "execution_count": 28,
   "metadata": {},
   "outputs": [
    {
     "name": "stdout",
     "output_type": "stream",
     "text": [
      "Source path =  datasets/Project_data/train ; batch size = 10\n"
     ]
    },
    {
     "name": "stderr",
     "output_type": "stream",
     "text": [
      "/tmp/ipykernel_389/191411352.py:2: UserWarning: `Model.fit_generator` is deprecated and will be removed in a future version. Please use `Model.fit`, which supports generators.\n",
      "  model_c.fit_generator(train_generator, steps_per_epoch=steps_per_epoch, epochs=num_epochs, verbose=1,\n",
      "/tmp/ipykernel_389/455585104.py:14: DeprecationWarning:     `imread` is deprecated!\n",
      "    `imread` is deprecated in SciPy 1.0.0, and will be removed in 1.2.0.\n",
      "    Use ``imageio.imread`` instead.\n",
      "  image = imread(source_path+'/'+ t[folder + (batch*batch_size)].strip().split(';')[0]+'/'+imgs[item]).astype(np.float32)\n",
      "/tmp/ipykernel_389/455585104.py:18: DeprecationWarning:     `imresize` is deprecated!\n",
      "    `imresize` is deprecated in SciPy 1.0.0, and will be removed in 1.2.0.\n",
      "    Use ``skimage.transform.resize`` instead.\n",
      "  temp = imresize(image,(nb_rows,nb_cols))\n"
     ]
    },
    {
     "name": "stdout",
     "output_type": "stream",
     "text": [
      "Epoch 1/20\n",
      "65/67 [============================>.] - ETA: 2s - loss: 1.9887 - categorical_accuracy: 0.3185Batch:  67 Index: 10\n",
      "66/67 [============================>.] - ETA: 1s - loss: 1.9870 - categorical_accuracy: 0.3167"
     ]
    },
    {
     "name": "stderr",
     "output_type": "stream",
     "text": [
      "/tmp/ipykernel_389/455585104.py:37: DeprecationWarning:     `imread` is deprecated!\n",
      "    `imread` is deprecated in SciPy 1.0.0, and will be removed in 1.2.0.\n",
      "    Use ``imageio.imread`` instead.\n",
      "  image = imread(source_path+'/'+ t[folder + (batch*batch_size)].strip().split(';')[0]+'/'+imgs[item]).astype(np.float32)\n",
      "/tmp/ipykernel_389/455585104.py:41: DeprecationWarning:     `imresize` is deprecated!\n",
      "    `imresize` is deprecated in SciPy 1.0.0, and will be removed in 1.2.0.\n",
      "    Use ``skimage.transform.resize`` instead.\n",
      "  temp = imresize(image,(nb_rows,nb_cols))\n"
     ]
    },
    {
     "name": "stdout",
     "output_type": "stream",
     "text": [
      "67/67 [==============================] - ETA: 0s - loss: 1.9911 - categorical_accuracy: 0.3152Source path =  datasets/Project_data/val ; batch size = 10\n",
      "\n",
      "Epoch 00001: saving model to model_init_2022-05-1813_53_31.147025/model-00001-1.99112-0.31523-6.28247-0.18000.h5\n",
      "67/67 [==============================] - 91s 1s/step - loss: 1.9911 - categorical_accuracy: 0.3152 - val_loss: 6.2825 - val_categorical_accuracy: 0.1800 - lr: 0.0010\n",
      "Epoch 2/20\n",
      "67/67 [==============================] - ETA: 0s - loss: 2.0446 - categorical_accuracy: 0.2736\n",
      "Epoch 00002: saving model to model_init_2022-05-1813_53_31.147025/model-00002-2.04461-0.27363-2.72361-0.37000.h5\n",
      "67/67 [==============================] - 38s 569ms/step - loss: 2.0446 - categorical_accuracy: 0.2736 - val_loss: 2.7236 - val_categorical_accuracy: 0.3700 - lr: 0.0010\n",
      "Epoch 3/20\n",
      "67/67 [==============================] - ETA: 0s - loss: 1.9079 - categorical_accuracy: 0.2537\n",
      "Epoch 00003: saving model to model_init_2022-05-1813_53_31.147025/model-00003-1.90787-0.25373-5.66305-0.21000.h5\n",
      "67/67 [==============================] - 36s 542ms/step - loss: 1.9079 - categorical_accuracy: 0.2537 - val_loss: 5.6630 - val_categorical_accuracy: 0.2100 - lr: 0.0010\n",
      "Epoch 4/20\n",
      "67/67 [==============================] - ETA: 0s - loss: 1.8072 - categorical_accuracy: 0.3134\n",
      "Epoch 00004: saving model to model_init_2022-05-1813_53_31.147025/model-00004-1.80720-0.31343-2.50809-0.28000.h5\n",
      "67/67 [==============================] - 38s 568ms/step - loss: 1.8072 - categorical_accuracy: 0.3134 - val_loss: 2.5081 - val_categorical_accuracy: 0.2800 - lr: 0.0010\n",
      "Epoch 5/20\n",
      "67/67 [==============================] - ETA: 0s - loss: 1.7401 - categorical_accuracy: 0.3035\n",
      "Epoch 00005: saving model to model_init_2022-05-1813_53_31.147025/model-00005-1.74010-0.30348-1.73118-0.31000.h5\n",
      "67/67 [==============================] - 37s 556ms/step - loss: 1.7401 - categorical_accuracy: 0.3035 - val_loss: 1.7312 - val_categorical_accuracy: 0.3100 - lr: 0.0010\n",
      "Epoch 6/20\n",
      "67/67 [==============================] - ETA: 0s - loss: 1.6975 - categorical_accuracy: 0.3085\n",
      "Epoch 00006: saving model to model_init_2022-05-1813_53_31.147025/model-00006-1.69753-0.30846-1.70170-0.37000.h5\n",
      "67/67 [==============================] - 38s 569ms/step - loss: 1.6975 - categorical_accuracy: 0.3085 - val_loss: 1.7017 - val_categorical_accuracy: 0.3700 - lr: 0.0010\n",
      "Epoch 7/20\n",
      "67/67 [==============================] - ETA: 0s - loss: 1.6161 - categorical_accuracy: 0.3433\n",
      "Epoch 00007: saving model to model_init_2022-05-1813_53_31.147025/model-00007-1.61609-0.34328-2.00461-0.44000.h5\n",
      "67/67 [==============================] - 37s 560ms/step - loss: 1.6161 - categorical_accuracy: 0.3433 - val_loss: 2.0046 - val_categorical_accuracy: 0.4400 - lr: 0.0010\n",
      "Epoch 8/20\n",
      "67/67 [==============================] - ETA: 0s - loss: 1.6396 - categorical_accuracy: 0.3085\n",
      "Epoch 00008: saving model to model_init_2022-05-1813_53_31.147025/model-00008-1.63961-0.30846-1.52740-0.31000.h5\n",
      "67/67 [==============================] - 37s 561ms/step - loss: 1.6396 - categorical_accuracy: 0.3085 - val_loss: 1.5274 - val_categorical_accuracy: 0.3100 - lr: 0.0010\n",
      "Epoch 9/20\n",
      "67/67 [==============================] - ETA: 0s - loss: 1.6051 - categorical_accuracy: 0.3781\n",
      "Epoch 00009: saving model to model_init_2022-05-1813_53_31.147025/model-00009-1.60513-0.37811-2.65150-0.31000.h5\n",
      "67/67 [==============================] - 37s 557ms/step - loss: 1.6051 - categorical_accuracy: 0.3781 - val_loss: 2.6515 - val_categorical_accuracy: 0.3100 - lr: 0.0010\n",
      "Epoch 10/20\n",
      "67/67 [==============================] - ETA: 0s - loss: 1.5831 - categorical_accuracy: 0.3532\n",
      "Epoch 00010: saving model to model_init_2022-05-1813_53_31.147025/model-00010-1.58314-0.35323-2.29710-0.27000.h5\n",
      "\n",
      "Epoch 00010: ReduceLROnPlateau reducing learning rate to 0.0005000000237487257.\n",
      "67/67 [==============================] - 37s 553ms/step - loss: 1.5831 - categorical_accuracy: 0.3532 - val_loss: 2.2971 - val_categorical_accuracy: 0.2700 - lr: 0.0010\n",
      "Epoch 11/20\n",
      "67/67 [==============================] - ETA: 0s - loss: 1.4787 - categorical_accuracy: 0.3582\n",
      "Epoch 00011: saving model to model_init_2022-05-1813_53_31.147025/model-00011-1.47866-0.35821-1.54230-0.35000.h5\n",
      "67/67 [==============================] - 37s 557ms/step - loss: 1.4787 - categorical_accuracy: 0.3582 - val_loss: 1.5423 - val_categorical_accuracy: 0.3500 - lr: 5.0000e-04\n",
      "Epoch 12/20\n",
      "67/67 [==============================] - ETA: 0s - loss: 1.5919 - categorical_accuracy: 0.2985\n",
      "Epoch 00012: saving model to model_init_2022-05-1813_53_31.147025/model-00012-1.59195-0.29851-1.58968-0.37000.h5\n",
      "\n",
      "Epoch 00012: ReduceLROnPlateau reducing learning rate to 0.0002500000118743628.\n",
      "67/67 [==============================] - 37s 557ms/step - loss: 1.5919 - categorical_accuracy: 0.2985 - val_loss: 1.5897 - val_categorical_accuracy: 0.3700 - lr: 5.0000e-04\n",
      "Epoch 13/20\n",
      "67/67 [==============================] - ETA: 0s - loss: 1.5244 - categorical_accuracy: 0.3184\n",
      "Epoch 00013: saving model to model_init_2022-05-1813_53_31.147025/model-00013-1.52441-0.31841-1.51488-0.39000.h5\n",
      "67/67 [==============================] - 36s 545ms/step - loss: 1.5244 - categorical_accuracy: 0.3184 - val_loss: 1.5149 - val_categorical_accuracy: 0.3900 - lr: 2.5000e-04\n",
      "Epoch 14/20\n",
      "67/67 [==============================] - ETA: 0s - loss: 1.4751 - categorical_accuracy: 0.3682\n",
      "Epoch 00014: saving model to model_init_2022-05-1813_53_31.147025/model-00014-1.47507-0.36816-1.58950-0.44000.h5\n",
      "67/67 [==============================] - 38s 571ms/step - loss: 1.4751 - categorical_accuracy: 0.3682 - val_loss: 1.5895 - val_categorical_accuracy: 0.4400 - lr: 2.5000e-04\n",
      "Epoch 15/20\n",
      "67/67 [==============================] - ETA: 0s - loss: 1.4944 - categorical_accuracy: 0.3632\n",
      "Epoch 00015: saving model to model_init_2022-05-1813_53_31.147025/model-00015-1.49438-0.36318-1.60607-0.39000.h5\n",
      "\n",
      "Epoch 00015: ReduceLROnPlateau reducing learning rate to 0.0001250000059371814.\n",
      "67/67 [==============================] - 37s 554ms/step - loss: 1.4944 - categorical_accuracy: 0.3632 - val_loss: 1.6061 - val_categorical_accuracy: 0.3900 - lr: 2.5000e-04\n",
      "Epoch 16/20\n",
      "67/67 [==============================] - ETA: 0s - loss: 1.5037 - categorical_accuracy: 0.3532\n",
      "Epoch 00016: saving model to model_init_2022-05-1813_53_31.147025/model-00016-1.50367-0.35323-1.58333-0.42000.h5\n",
      "67/67 [==============================] - 37s 557ms/step - loss: 1.5037 - categorical_accuracy: 0.3532 - val_loss: 1.5833 - val_categorical_accuracy: 0.4200 - lr: 1.2500e-04\n",
      "Epoch 17/20\n",
      "67/67 [==============================] - ETA: 0s - loss: 1.4954 - categorical_accuracy: 0.3333\n",
      "Epoch 00017: saving model to model_init_2022-05-1813_53_31.147025/model-00017-1.49542-0.33333-1.58130-0.41000.h5\n",
      "\n",
      "Epoch 00017: ReduceLROnPlateau reducing learning rate to 6.25000029685907e-05.\n",
      "67/67 [==============================] - 37s 558ms/step - loss: 1.4954 - categorical_accuracy: 0.3333 - val_loss: 1.5813 - val_categorical_accuracy: 0.4100 - lr: 1.2500e-04\n",
      "Epoch 18/20\n",
      "67/67 [==============================] - ETA: 0s - loss: 1.5982 - categorical_accuracy: 0.2836\n",
      "Epoch 00018: saving model to model_init_2022-05-1813_53_31.147025/model-00018-1.59823-0.28358-1.41519-0.42000.h5\n",
      "67/67 [==============================] - 37s 557ms/step - loss: 1.5982 - categorical_accuracy: 0.2836 - val_loss: 1.4152 - val_categorical_accuracy: 0.4200 - lr: 6.2500e-05\n",
      "Epoch 19/20\n",
      "67/67 [==============================] - ETA: 0s - loss: 1.4967 - categorical_accuracy: 0.3781\n",
      "Epoch 00019: saving model to model_init_2022-05-1813_53_31.147025/model-00019-1.49674-0.37811-1.94799-0.38000.h5\n",
      "67/67 [==============================] - 37s 564ms/step - loss: 1.4967 - categorical_accuracy: 0.3781 - val_loss: 1.9480 - val_categorical_accuracy: 0.3800 - lr: 6.2500e-05\n",
      "Epoch 20/20\n",
      "67/67 [==============================] - ETA: 0s - loss: 1.4529 - categorical_accuracy: 0.3980\n",
      "Epoch 00020: saving model to model_init_2022-05-1813_53_31.147025/model-00020-1.45289-0.39801-1.80667-0.43000.h5\n",
      "\n",
      "Epoch 00020: ReduceLROnPlateau reducing learning rate to 3.125000148429535e-05.\n",
      "67/67 [==============================] - 37s 564ms/step - loss: 1.4529 - categorical_accuracy: 0.3980 - val_loss: 1.8067 - val_categorical_accuracy: 0.4300 - lr: 6.2500e-05\n"
     ]
    },
    {
     "data": {
      "text/plain": [
       "<keras.callbacks.History at 0x7f9b6c400e80>"
      ]
     },
     "execution_count": 28,
     "metadata": {},
     "output_type": "execute_result"
    }
   ],
   "source": [
    "num_epochs = 20\n",
    "model_c.fit_generator(train_generator, steps_per_epoch=steps_per_epoch, epochs=num_epochs, verbose=1, \n",
    "                    callbacks=callbacks_list, validation_data=val_generator, \n",
    "                    validation_steps=validation_steps, class_weight=None, workers=1, initial_epoch=0)"
   ]
  },
  {
   "cell_type": "code",
   "execution_count": 29,
   "metadata": {},
   "outputs": [],
   "source": [
    "nb_frames = 30 # number of frames\n",
    "nb_rows = 64 # image width\n",
    "nb_cols = 64 # image height \n",
    "\n",
    "nb_classes = 5\n",
    "nb_channel = 1"
   ]
  },
  {
   "cell_type": "code",
   "execution_count": 30,
   "metadata": {},
   "outputs": [
    {
     "name": "stdout",
     "output_type": "stream",
     "text": [
      "Model: \"sequential_3\"\n",
      "_________________________________________________________________\n",
      " Layer (type)                Output Shape              Param #   \n",
      "=================================================================\n",
      " conv3d_14 (Conv3D)          (None, 30, 64, 64, 32)    896       \n",
      "                                                                 \n",
      " activation_14 (Activation)  (None, 30, 64, 64, 32)    0         \n",
      "                                                                 \n",
      " conv3d_15 (Conv3D)          (None, 30, 64, 64, 32)    27680     \n",
      "                                                                 \n",
      " activation_15 (Activation)  (None, 30, 64, 64, 32)    0         \n",
      "                                                                 \n",
      " max_pooling3d_9 (MaxPooling  (None, 10, 22, 22, 32)   0         \n",
      " 3D)                                                             \n",
      "                                                                 \n",
      " dropout_9 (Dropout)         (None, 10, 22, 22, 32)    0         \n",
      "                                                                 \n",
      " conv3d_16 (Conv3D)          (None, 10, 22, 22, 64)    55360     \n",
      "                                                                 \n",
      " activation_16 (Activation)  (None, 10, 22, 22, 64)    0         \n",
      "                                                                 \n",
      " conv3d_17 (Conv3D)          (None, 10, 22, 22, 64)    110656    \n",
      "                                                                 \n",
      " activation_17 (Activation)  (None, 10, 22, 22, 64)    0         \n",
      "                                                                 \n",
      " max_pooling3d_10 (MaxPoolin  (None, 4, 8, 8, 64)      0         \n",
      " g3D)                                                            \n",
      "                                                                 \n",
      " dropout_10 (Dropout)        (None, 4, 8, 8, 64)       0         \n",
      "                                                                 \n",
      " conv3d_18 (Conv3D)          (None, 4, 8, 8, 64)       110656    \n",
      "                                                                 \n",
      " activation_18 (Activation)  (None, 4, 8, 8, 64)       0         \n",
      "                                                                 \n",
      " conv3d_19 (Conv3D)          (None, 4, 8, 8, 64)       110656    \n",
      "                                                                 \n",
      " activation_19 (Activation)  (None, 4, 8, 8, 64)       0         \n",
      "                                                                 \n",
      " max_pooling3d_11 (MaxPoolin  (None, 2, 3, 3, 64)      0         \n",
      " g3D)                                                            \n",
      "                                                                 \n",
      " dropout_11 (Dropout)        (None, 2, 3, 3, 64)       0         \n",
      "                                                                 \n",
      " flatten_3 (Flatten)         (None, 1152)              0         \n",
      "                                                                 \n",
      " dense_7 (Dense)             (None, 512)               590336    \n",
      "                                                                 \n",
      " batch_normalization_5 (Batc  (None, 512)              2048      \n",
      " hNormalization)                                                 \n",
      "                                                                 \n",
      " dropout_12 (Dropout)        (None, 512)               0         \n",
      "                                                                 \n",
      " dense_8 (Dense)             (None, 5)                 2565      \n",
      "                                                                 \n",
      "=================================================================\n",
      "Total params: 1,010,853\n",
      "Trainable params: 1,009,829\n",
      "Non-trainable params: 1,024\n",
      "_________________________________________________________________\n"
     ]
    }
   ],
   "source": [
    "# Define model\n",
    "model_d = Sequential()\n",
    "model_d.add(Conv3D(32, kernel_size=(3, 3, 3), input_shape=(nb_frames,nb_rows,nb_cols,nb_channel), padding=\"same\"))\n",
    "model_d.add(Activation('relu'))\n",
    "model_d.add(Conv3D(32, padding=\"same\", kernel_size=(3, 3, 3)))\n",
    "model_d.add(Activation('relu'))\n",
    "model_d.add(MaxPooling3D(pool_size=(3, 3, 3), padding=\"same\"))\n",
    "model_d.add(Dropout(0.25))\n",
    "\n",
    "model_d.add(Conv3D(64, padding=\"same\", kernel_size=(3, 3, 3)))\n",
    "model_d.add(Activation('relu'))\n",
    "model_d.add(Conv3D(64, padding=\"same\", kernel_size=(3, 3, 3)))\n",
    "model_d.add(Activation('relu'))\n",
    "model_d.add(MaxPooling3D(pool_size=(3, 3, 3), padding=\"same\"))\n",
    "model_d.add(Dropout(0.25))\n",
    "\n",
    "model_d.add(Conv3D(64, padding=\"same\", kernel_size=(3, 3, 3)))\n",
    "model_d.add(Activation('relu'))\n",
    "model_d.add(Conv3D(64, padding=\"same\", kernel_size=(3, 3, 3)))\n",
    "model_d.add(Activation('relu'))\n",
    "model_d.add(MaxPooling3D(pool_size=(3, 3, 3), padding=\"same\"))\n",
    "model_d.add(Dropout(0.25))\n",
    "\n",
    "model_d.add(Flatten())\n",
    "model_d.add(Dense(512, activation='relu'))\n",
    "model_d.add(BatchNormalization())\n",
    "model_d.add(Dropout(0.5))\n",
    "model_d.add(Dense(nb_classes, activation='softmax'))\n",
    "model_d.compile(optimizer='adam', loss='categorical_crossentropy', metrics=['categorical_accuracy'])\n",
    "model_d.summary()\n"
   ]
  },
  {
   "cell_type": "code",
   "execution_count": 31,
   "metadata": {},
   "outputs": [
    {
     "name": "stdout",
     "output_type": "stream",
     "text": [
      "Source path =  datasets/Project_data/train ; batch size = 5\n"
     ]
    },
    {
     "name": "stderr",
     "output_type": "stream",
     "text": [
      "/tmp/ipykernel_389/3837395513.py:5: UserWarning: `Model.fit_generator` is deprecated and will be removed in a future version. Please use `Model.fit`, which supports generators.\n",
      "  model_d.fit_generator(train_generator, steps_per_epoch=steps_per_epoch, epochs=num_epochs, verbose=1,\n",
      "/tmp/ipykernel_389/455585104.py:14: DeprecationWarning:     `imread` is deprecated!\n",
      "    `imread` is deprecated in SciPy 1.0.0, and will be removed in 1.2.0.\n",
      "    Use ``imageio.imread`` instead.\n",
      "  image = imread(source_path+'/'+ t[folder + (batch*batch_size)].strip().split(';')[0]+'/'+imgs[item]).astype(np.float32)\n",
      "/tmp/ipykernel_389/455585104.py:18: DeprecationWarning:     `imresize` is deprecated!\n",
      "    `imresize` is deprecated in SciPy 1.0.0, and will be removed in 1.2.0.\n",
      "    Use ``skimage.transform.resize`` instead.\n",
      "  temp = imresize(image,(nb_rows,nb_cols))\n"
     ]
    },
    {
     "name": "stdout",
     "output_type": "stream",
     "text": [
      "Epoch 1/20\n",
      "67/67 [==============================] - ETA: 0s - loss: 2.4010 - categorical_accuracy: 0.1940Source path =  datasets/Project_data/val ; batch size = 5\n",
      "\n",
      "Epoch 00001: saving model to model_init_2022-05-1813_53_31.147025/model-00001-2.40105-0.19403-9.20659-0.18000.h5\n",
      "67/67 [==============================] - 38s 566ms/step - loss: 2.4010 - categorical_accuracy: 0.1940 - val_loss: 9.2066 - val_categorical_accuracy: 0.1800 - lr: 0.0010\n",
      "Epoch 2/20\n",
      "64/67 [===========================>..] - ETA: 1s - loss: 2.1823 - categorical_accuracy: 0.2281Batch:  133 Index: 5\n",
      "65/67 [============================>.] - ETA: 0s - loss: 2.1799 - categorical_accuracy: 0.2277"
     ]
    },
    {
     "name": "stderr",
     "output_type": "stream",
     "text": [
      "/tmp/ipykernel_389/455585104.py:37: DeprecationWarning:     `imread` is deprecated!\n",
      "    `imread` is deprecated in SciPy 1.0.0, and will be removed in 1.2.0.\n",
      "    Use ``imageio.imread`` instead.\n",
      "  image = imread(source_path+'/'+ t[folder + (batch*batch_size)].strip().split(';')[0]+'/'+imgs[item]).astype(np.float32)\n",
      "/tmp/ipykernel_389/455585104.py:41: DeprecationWarning:     `imresize` is deprecated!\n",
      "    `imresize` is deprecated in SciPy 1.0.0, and will be removed in 1.2.0.\n",
      "    Use ``skimage.transform.resize`` instead.\n",
      "  temp = imresize(image,(nb_rows,nb_cols))\n"
     ]
    },
    {
     "name": "stdout",
     "output_type": "stream",
     "text": [
      "67/67 [==============================] - ETA: 0s - loss: 2.1895 - categorical_accuracy: 0.2236\n",
      "Epoch 00002: saving model to model_init_2022-05-1813_53_31.147025/model-00002-2.18946-0.22356-2.94010-0.20000.h5\n",
      "67/67 [==============================] - 37s 563ms/step - loss: 2.1895 - categorical_accuracy: 0.2236 - val_loss: 2.9401 - val_categorical_accuracy: 0.2000 - lr: 0.0010\n",
      "Epoch 3/20\n",
      "67/67 [==============================] - ETA: 0s - loss: 2.1108 - categorical_accuracy: 0.2239\n",
      "Epoch 00003: saving model to model_init_2022-05-1813_53_31.147025/model-00003-2.11078-0.22388-8.18307-0.10000.h5\n",
      "67/67 [==============================] - 24s 360ms/step - loss: 2.1108 - categorical_accuracy: 0.2239 - val_loss: 8.1831 - val_categorical_accuracy: 0.1000 - lr: 0.0010\n",
      "Epoch 4/20\n",
      "67/67 [==============================] - ETA: 0s - loss: 2.2047 - categorical_accuracy: 0.1791\n",
      "Epoch 00004: saving model to model_init_2022-05-1813_53_31.147025/model-00004-2.20475-0.17910-2.96408-0.18000.h5\n",
      "\n",
      "Epoch 00004: ReduceLROnPlateau reducing learning rate to 0.0005000000237487257.\n",
      "67/67 [==============================] - 26s 387ms/step - loss: 2.2047 - categorical_accuracy: 0.1791 - val_loss: 2.9641 - val_categorical_accuracy: 0.1800 - lr: 0.0010\n",
      "Epoch 5/20\n",
      "67/67 [==============================] - ETA: 0s - loss: 2.0163 - categorical_accuracy: 0.2587\n",
      "Epoch 00005: saving model to model_init_2022-05-1813_53_31.147025/model-00005-2.01631-0.25871-2.35910-0.18000.h5\n",
      "67/67 [==============================] - 25s 372ms/step - loss: 2.0163 - categorical_accuracy: 0.2587 - val_loss: 2.3591 - val_categorical_accuracy: 0.1800 - lr: 5.0000e-04\n",
      "Epoch 6/20\n",
      "67/67 [==============================] - ETA: 0s - loss: 1.8061 - categorical_accuracy: 0.2836\n",
      "Epoch 00006: saving model to model_init_2022-05-1813_53_31.147025/model-00006-1.80608-0.28358-2.03026-0.32000.h5\n",
      "67/67 [==============================] - 26s 395ms/step - loss: 1.8061 - categorical_accuracy: 0.2836 - val_loss: 2.0303 - val_categorical_accuracy: 0.3200 - lr: 5.0000e-04\n",
      "Epoch 7/20\n",
      "67/67 [==============================] - ETA: 0s - loss: 1.9746 - categorical_accuracy: 0.1741\n",
      "Epoch 00007: saving model to model_init_2022-05-1813_53_31.147025/model-00007-1.97462-0.17413-1.67648-0.20000.h5\n",
      "67/67 [==============================] - 25s 378ms/step - loss: 1.9746 - categorical_accuracy: 0.1741 - val_loss: 1.6765 - val_categorical_accuracy: 0.2000 - lr: 5.0000e-04\n",
      "Epoch 8/20\n",
      "67/67 [==============================] - ETA: 0s - loss: 1.9744 - categorical_accuracy: 0.2040\n",
      "Epoch 00008: saving model to model_init_2022-05-1813_53_31.147025/model-00008-1.97442-0.20398-1.57548-0.34000.h5\n",
      "67/67 [==============================] - 25s 384ms/step - loss: 1.9744 - categorical_accuracy: 0.2040 - val_loss: 1.5755 - val_categorical_accuracy: 0.3400 - lr: 5.0000e-04\n",
      "Epoch 9/20\n",
      "67/67 [==============================] - ETA: 0s - loss: 1.8446 - categorical_accuracy: 0.2040\n",
      "Epoch 00009: saving model to model_init_2022-05-1813_53_31.147025/model-00009-1.84457-0.20398-1.79892-0.26000.h5\n",
      "67/67 [==============================] - 24s 366ms/step - loss: 1.8446 - categorical_accuracy: 0.2040 - val_loss: 1.7989 - val_categorical_accuracy: 0.2600 - lr: 5.0000e-04\n",
      "Epoch 10/20\n",
      "67/67 [==============================] - ETA: 0s - loss: 1.8039 - categorical_accuracy: 0.2338\n",
      "Epoch 00010: saving model to model_init_2022-05-1813_53_31.147025/model-00010-1.80392-0.23383-2.55141-0.28000.h5\n",
      "\n",
      "Epoch 00010: ReduceLROnPlateau reducing learning rate to 0.0002500000118743628.\n",
      "67/67 [==============================] - 26s 390ms/step - loss: 1.8039 - categorical_accuracy: 0.2338 - val_loss: 2.5514 - val_categorical_accuracy: 0.2800 - lr: 5.0000e-04\n",
      "Epoch 11/20\n",
      "67/67 [==============================] - ETA: 0s - loss: 1.7973 - categorical_accuracy: 0.2736\n",
      "Epoch 00011: saving model to model_init_2022-05-1813_53_31.147025/model-00011-1.79730-0.27363-1.53683-0.36000.h5\n",
      "67/67 [==============================] - 25s 376ms/step - loss: 1.7973 - categorical_accuracy: 0.2736 - val_loss: 1.5368 - val_categorical_accuracy: 0.3600 - lr: 2.5000e-04\n",
      "Epoch 12/20\n",
      "67/67 [==============================] - ETA: 0s - loss: 1.8305 - categorical_accuracy: 0.2239\n",
      "Epoch 00012: saving model to model_init_2022-05-1813_53_31.147025/model-00012-1.83048-0.22388-1.68549-0.32000.h5\n",
      "67/67 [==============================] - 24s 364ms/step - loss: 1.8305 - categorical_accuracy: 0.2239 - val_loss: 1.6855 - val_categorical_accuracy: 0.3200 - lr: 2.5000e-04\n",
      "Epoch 13/20\n",
      "67/67 [==============================] - ETA: 0s - loss: 1.9413 - categorical_accuracy: 0.1741\n",
      "Epoch 00013: saving model to model_init_2022-05-1813_53_31.147025/model-00013-1.94125-0.17413-1.42956-0.48000.h5\n",
      "67/67 [==============================] - 24s 367ms/step - loss: 1.9413 - categorical_accuracy: 0.1741 - val_loss: 1.4296 - val_categorical_accuracy: 0.4800 - lr: 2.5000e-04\n",
      "Epoch 14/20\n",
      "67/67 [==============================] - ETA: 0s - loss: 1.8470 - categorical_accuracy: 0.2338\n",
      "Epoch 00014: saving model to model_init_2022-05-1813_53_31.147025/model-00014-1.84703-0.23383-1.53294-0.32000.h5\n",
      "67/67 [==============================] - 25s 374ms/step - loss: 1.8470 - categorical_accuracy: 0.2338 - val_loss: 1.5329 - val_categorical_accuracy: 0.3200 - lr: 2.5000e-04\n",
      "Epoch 15/20\n",
      "67/67 [==============================] - ETA: 0s - loss: 1.7319 - categorical_accuracy: 0.2736\n",
      "Epoch 00015: saving model to model_init_2022-05-1813_53_31.147025/model-00015-1.73192-0.27363-1.56345-0.24000.h5\n",
      "\n",
      "Epoch 00015: ReduceLROnPlateau reducing learning rate to 0.0001250000059371814.\n",
      "67/67 [==============================] - 26s 393ms/step - loss: 1.7319 - categorical_accuracy: 0.2736 - val_loss: 1.5635 - val_categorical_accuracy: 0.2400 - lr: 2.5000e-04\n",
      "Epoch 16/20\n",
      "67/67 [==============================] - ETA: 0s - loss: 1.7232 - categorical_accuracy: 0.2736\n",
      "Epoch 00016: saving model to model_init_2022-05-1813_53_31.147025/model-00016-1.72321-0.27363-1.49018-0.36000.h5\n",
      "67/67 [==============================] - 25s 381ms/step - loss: 1.7232 - categorical_accuracy: 0.2736 - val_loss: 1.4902 - val_categorical_accuracy: 0.3600 - lr: 1.2500e-04\n",
      "Epoch 17/20\n",
      "67/67 [==============================] - ETA: 0s - loss: 1.7379 - categorical_accuracy: 0.2637\n",
      "Epoch 00017: saving model to model_init_2022-05-1813_53_31.147025/model-00017-1.73790-0.26368-1.51083-0.38000.h5\n",
      "\n",
      "Epoch 00017: ReduceLROnPlateau reducing learning rate to 6.25000029685907e-05.\n",
      "67/67 [==============================] - 25s 384ms/step - loss: 1.7379 - categorical_accuracy: 0.2637 - val_loss: 1.5108 - val_categorical_accuracy: 0.3800 - lr: 1.2500e-04\n",
      "Epoch 18/20\n",
      "67/67 [==============================] - ETA: 0s - loss: 1.8093 - categorical_accuracy: 0.2637\n",
      "Epoch 00018: saving model to model_init_2022-05-1813_53_31.147025/model-00018-1.80930-0.26368-1.47332-0.38000.h5\n",
      "67/67 [==============================] - 25s 378ms/step - loss: 1.8093 - categorical_accuracy: 0.2637 - val_loss: 1.4733 - val_categorical_accuracy: 0.3800 - lr: 6.2500e-05\n",
      "Epoch 19/20\n",
      "67/67 [==============================] - ETA: 0s - loss: 1.7512 - categorical_accuracy: 0.2985\n",
      "Epoch 00019: saving model to model_init_2022-05-1813_53_31.147025/model-00019-1.75124-0.29851-1.51367-0.40000.h5\n",
      "\n",
      "Epoch 00019: ReduceLROnPlateau reducing learning rate to 3.125000148429535e-05.\n",
      "67/67 [==============================] - 24s 364ms/step - loss: 1.7512 - categorical_accuracy: 0.2985 - val_loss: 1.5137 - val_categorical_accuracy: 0.4000 - lr: 6.2500e-05\n",
      "Epoch 20/20\n",
      "67/67 [==============================] - ETA: 0s - loss: 1.7710 - categorical_accuracy: 0.2438\n",
      "Epoch 00020: saving model to model_init_2022-05-1813_53_31.147025/model-00020-1.77096-0.24378-1.49982-0.36000.h5\n",
      "67/67 [==============================] - 25s 375ms/step - loss: 1.7710 - categorical_accuracy: 0.2438 - val_loss: 1.4998 - val_categorical_accuracy: 0.3600 - lr: 3.1250e-05\n"
     ]
    },
    {
     "data": {
      "text/plain": [
       "<keras.callbacks.History at 0x7f9b6c14d280>"
      ]
     },
     "execution_count": 31,
     "metadata": {},
     "output_type": "execute_result"
    }
   ],
   "source": [
    "batch_size = 5\n",
    "train_generator = new_generator(train_path, train_doc, batch_size)\n",
    "val_generator = new_generator(val_path, val_doc, batch_size)\n",
    "num_epochs = 20\n",
    "model_d.fit_generator(train_generator, steps_per_epoch=steps_per_epoch, epochs=num_epochs, verbose=1, \n",
    "                    callbacks=callbacks_list, validation_data=val_generator, \n",
    "                    validation_steps=validation_steps, class_weight=None, workers=1, initial_epoch=0)\n"
   ]
  },
  {
   "cell_type": "code",
   "execution_count": 32,
   "metadata": {},
   "outputs": [
    {
     "name": "stdout",
     "output_type": "stream",
     "text": [
      "Model: \"sequential_4\"\n",
      "_________________________________________________________________\n",
      " Layer (type)                Output Shape              Param #   \n",
      "=================================================================\n",
      " conv3d_20 (Conv3D)          (None, 30, 120, 120, 8)   224       \n",
      "                                                                 \n",
      " batch_normalization_6 (Batc  (None, 30, 120, 120, 8)  32        \n",
      " hNormalization)                                                 \n",
      "                                                                 \n",
      " activation_20 (Activation)  (None, 30, 120, 120, 8)   0         \n",
      "                                                                 \n",
      " max_pooling3d_12 (MaxPoolin  (None, 15, 60, 60, 8)    0         \n",
      " g3D)                                                            \n",
      "                                                                 \n",
      " conv3d_21 (Conv3D)          (None, 15, 60, 60, 16)    3472      \n",
      "                                                                 \n",
      " batch_normalization_7 (Batc  (None, 15, 60, 60, 16)   64        \n",
      " hNormalization)                                                 \n",
      "                                                                 \n",
      " activation_21 (Activation)  (None, 15, 60, 60, 16)    0         \n",
      "                                                                 \n",
      " max_pooling3d_13 (MaxPoolin  (None, 7, 30, 30, 16)    0         \n",
      " g3D)                                                            \n",
      "                                                                 \n",
      " conv3d_22 (Conv3D)          (None, 7, 30, 30, 32)     4640      \n",
      "                                                                 \n",
      " batch_normalization_8 (Batc  (None, 7, 30, 30, 32)    128       \n",
      " hNormalization)                                                 \n",
      "                                                                 \n",
      " activation_22 (Activation)  (None, 7, 30, 30, 32)     0         \n",
      "                                                                 \n",
      " max_pooling3d_14 (MaxPoolin  (None, 3, 15, 15, 32)    0         \n",
      " g3D)                                                            \n",
      "                                                                 \n",
      " conv3d_23 (Conv3D)          (None, 3, 15, 15, 64)     18496     \n",
      "                                                                 \n",
      " batch_normalization_9 (Batc  (None, 3, 15, 15, 64)    256       \n",
      " hNormalization)                                                 \n",
      "                                                                 \n",
      " activation_23 (Activation)  (None, 3, 15, 15, 64)     0         \n",
      "                                                                 \n",
      " max_pooling3d_15 (MaxPoolin  (None, 1, 7, 7, 64)      0         \n",
      " g3D)                                                            \n",
      "                                                                 \n",
      " flatten_4 (Flatten)         (None, 3136)              0         \n",
      "                                                                 \n",
      " dense_9 (Dense)             (None, 1000)              3137000   \n",
      "                                                                 \n",
      " dropout_13 (Dropout)        (None, 1000)              0         \n",
      "                                                                 \n",
      " dense_10 (Dense)            (None, 500)               500500    \n",
      "                                                                 \n",
      " dropout_14 (Dropout)        (None, 500)               0         \n",
      "                                                                 \n",
      " dense_11 (Dense)            (None, 5)                 2505      \n",
      "                                                                 \n",
      "=================================================================\n",
      "Total params: 3,667,317\n",
      "Trainable params: 3,667,077\n",
      "Non-trainable params: 240\n",
      "_________________________________________________________________\n"
     ]
    }
   ],
   "source": [
    "nb_frames = 30 # number of frames\n",
    "nb_rows = 120 # image width\n",
    "nb_cols = 120 # image height \n",
    "\n",
    "nb_classes = 5\n",
    "nb_channel = 1\n",
    "\n",
    "input_shape=(nb_frames,nb_rows,nb_cols,nb_channel)\n",
    "\n",
    "# Define model\n",
    "model_e = Sequential()\n",
    "\n",
    "model_e.add(Conv3D(nb_filters[0], \n",
    "                 kernel_size=(3,3,3), \n",
    "                 input_shape=input_shape,\n",
    "                 padding='same'))\n",
    "model_e.add(BatchNormalization())\n",
    "model_e.add(Activation('relu'))\n",
    "\n",
    "model_e.add(MaxPooling3D(pool_size=(2,2,2)))\n",
    "\n",
    "model_e.add(Conv3D(nb_filters[1], \n",
    "                 kernel_size=(3,3,3), \n",
    "                 padding='same'))\n",
    "model_e.add(BatchNormalization())\n",
    "model_e.add(Activation('relu'))\n",
    "\n",
    "model_e.add(MaxPooling3D(pool_size=(2,2,2)))\n",
    "\n",
    "model_e.add(Conv3D(nb_filters[2], \n",
    "                 kernel_size=(1,3,3), \n",
    "                 padding='same'))\n",
    "model_e.add(BatchNormalization())\n",
    "model_e.add(Activation('relu'))\n",
    "\n",
    "model_e.add(MaxPooling3D(pool_size=(2,2,2)))\n",
    "\n",
    "model_e.add(Conv3D(nb_filters[3], \n",
    "                 kernel_size=(1,3,3), \n",
    "                 padding='same'))\n",
    "model_e.add(BatchNormalization())\n",
    "model_e.add(Activation('relu'))\n",
    "\n",
    "model_e.add(MaxPooling3D(pool_size=(2,2,2)))\n",
    "\n",
    "#Flatten Layers\n",
    "model_e.add(Flatten())\n",
    "\n",
    "model_e.add(Dense(nb_dense[0], activation='relu'))\n",
    "model_e.add(Dropout(0.5))\n",
    "\n",
    "model_e.add(Dense(nb_dense[1], activation='relu'))\n",
    "model_e.add(Dropout(0.5))\n",
    "\n",
    "#softmax layer\n",
    "model_e.add(Dense(nb_dense[2], activation='softmax'))\n",
    "model_e.compile(optimizer='adam', loss='categorical_crossentropy', metrics=['categorical_accuracy'])\n",
    "model_e.summary()"
   ]
  },
  {
   "cell_type": "code",
   "execution_count": 33,
   "metadata": {},
   "outputs": [
    {
     "name": "stdout",
     "output_type": "stream",
     "text": [
      "Source path =  datasets/Project_data/train ; batch size = 10\n"
     ]
    },
    {
     "name": "stderr",
     "output_type": "stream",
     "text": [
      "/tmp/ipykernel_389/981344006.py:5: UserWarning: `Model.fit_generator` is deprecated and will be removed in a future version. Please use `Model.fit`, which supports generators.\n",
      "  model_e.fit_generator(train_generator, steps_per_epoch=steps_per_epoch, epochs=num_epochs, verbose=1,\n",
      "/tmp/ipykernel_389/455585104.py:14: DeprecationWarning:     `imread` is deprecated!\n",
      "    `imread` is deprecated in SciPy 1.0.0, and will be removed in 1.2.0.\n",
      "    Use ``imageio.imread`` instead.\n",
      "  image = imread(source_path+'/'+ t[folder + (batch*batch_size)].strip().split(';')[0]+'/'+imgs[item]).astype(np.float32)\n",
      "/tmp/ipykernel_389/455585104.py:18: DeprecationWarning:     `imresize` is deprecated!\n",
      "    `imresize` is deprecated in SciPy 1.0.0, and will be removed in 1.2.0.\n",
      "    Use ``skimage.transform.resize`` instead.\n",
      "  temp = imresize(image,(nb_rows,nb_cols))\n"
     ]
    },
    {
     "name": "stdout",
     "output_type": "stream",
     "text": [
      "Epoch 1/30\n",
      "65/67 [============================>.] - ETA: 2s - loss: 4.7563 - categorical_accuracy: 0.3046Batch:  67 Index: 10\n",
      "66/67 [============================>.] - ETA: 1s - loss: 4.7305 - categorical_accuracy: 0.3030"
     ]
    },
    {
     "name": "stderr",
     "output_type": "stream",
     "text": [
      "/tmp/ipykernel_389/455585104.py:37: DeprecationWarning:     `imread` is deprecated!\n",
      "    `imread` is deprecated in SciPy 1.0.0, and will be removed in 1.2.0.\n",
      "    Use ``imageio.imread`` instead.\n",
      "  image = imread(source_path+'/'+ t[folder + (batch*batch_size)].strip().split(';')[0]+'/'+imgs[item]).astype(np.float32)\n",
      "/tmp/ipykernel_389/455585104.py:41: DeprecationWarning:     `imresize` is deprecated!\n",
      "    `imresize` is deprecated in SciPy 1.0.0, and will be removed in 1.2.0.\n",
      "    Use ``skimage.transform.resize`` instead.\n",
      "  temp = imresize(image,(nb_rows,nb_cols))\n"
     ]
    },
    {
     "name": "stdout",
     "output_type": "stream",
     "text": [
      "67/67 [==============================] - ETA: 0s - loss: 4.7163 - categorical_accuracy: 0.3017Source path =  datasets/Project_data/val ; batch size = 10\n",
      "\n",
      "Epoch 00001: saving model to model_init_2022-05-1813_53_31.147025/model-00001-4.71631-0.30166-2.02713-0.17000.h5\n",
      "67/67 [==============================] - 81s 1s/step - loss: 4.7163 - categorical_accuracy: 0.3017 - val_loss: 2.0271 - val_categorical_accuracy: 0.1700 - lr: 0.0010\n",
      "Epoch 2/30\n",
      "67/67 [==============================] - ETA: 0s - loss: 2.4562 - categorical_accuracy: 0.3085\n",
      "Epoch 00002: saving model to model_init_2022-05-1813_53_31.147025/model-00002-2.45616-0.30846-1.58276-0.23000.h5\n",
      "67/67 [==============================] - 34s 508ms/step - loss: 2.4562 - categorical_accuracy: 0.3085 - val_loss: 1.5828 - val_categorical_accuracy: 0.2300 - lr: 0.0010\n",
      "Epoch 3/30\n",
      "67/67 [==============================] - ETA: 0s - loss: 1.8004 - categorical_accuracy: 0.2836\n",
      "Epoch 00003: saving model to model_init_2022-05-1813_53_31.147025/model-00003-1.80037-0.28358-1.61797-0.35000.h5\n",
      "67/67 [==============================] - 34s 517ms/step - loss: 1.8004 - categorical_accuracy: 0.2836 - val_loss: 1.6180 - val_categorical_accuracy: 0.3500 - lr: 0.0010\n",
      "Epoch 4/30\n",
      "67/67 [==============================] - ETA: 0s - loss: 1.7440 - categorical_accuracy: 0.2736\n",
      "Epoch 00004: saving model to model_init_2022-05-1813_53_31.147025/model-00004-1.74404-0.27363-1.61734-0.15000.h5\n",
      "\n",
      "Epoch 00004: ReduceLROnPlateau reducing learning rate to 0.0005000000237487257.\n",
      "67/67 [==============================] - 35s 525ms/step - loss: 1.7440 - categorical_accuracy: 0.2736 - val_loss: 1.6173 - val_categorical_accuracy: 0.1500 - lr: 0.0010\n",
      "Epoch 5/30\n",
      "67/67 [==============================] - ETA: 0s - loss: 1.5032 - categorical_accuracy: 0.3234\n",
      "Epoch 00005: saving model to model_init_2022-05-1813_53_31.147025/model-00005-1.50320-0.32338-1.48577-0.29000.h5\n",
      "67/67 [==============================] - 33s 498ms/step - loss: 1.5032 - categorical_accuracy: 0.3234 - val_loss: 1.4858 - val_categorical_accuracy: 0.2900 - lr: 5.0000e-04\n",
      "Epoch 6/30\n",
      "67/67 [==============================] - ETA: 0s - loss: 1.3730 - categorical_accuracy: 0.4229\n",
      "Epoch 00006: saving model to model_init_2022-05-1813_53_31.147025/model-00006-1.37299-0.42289-1.47215-0.32000.h5\n",
      "67/67 [==============================] - 35s 524ms/step - loss: 1.3730 - categorical_accuracy: 0.4229 - val_loss: 1.4722 - val_categorical_accuracy: 0.3200 - lr: 5.0000e-04\n",
      "Epoch 7/30\n",
      "67/67 [==============================] - ETA: 0s - loss: 1.4123 - categorical_accuracy: 0.3632\n",
      "Epoch 00007: saving model to model_init_2022-05-1813_53_31.147025/model-00007-1.41230-0.36318-1.43739-0.36000.h5\n",
      "67/67 [==============================] - 34s 510ms/step - loss: 1.4123 - categorical_accuracy: 0.3632 - val_loss: 1.4374 - val_categorical_accuracy: 0.3600 - lr: 5.0000e-04\n",
      "Epoch 8/30\n",
      "67/67 [==============================] - ETA: 0s - loss: 1.3682 - categorical_accuracy: 0.3831\n",
      "Epoch 00008: saving model to model_init_2022-05-1813_53_31.147025/model-00008-1.36824-0.38308-1.31736-0.46000.h5\n",
      "67/67 [==============================] - 34s 517ms/step - loss: 1.3682 - categorical_accuracy: 0.3831 - val_loss: 1.3174 - val_categorical_accuracy: 0.4600 - lr: 5.0000e-04\n",
      "Epoch 9/30\n",
      "67/67 [==============================] - ETA: 0s - loss: 1.4306 - categorical_accuracy: 0.3781\n",
      "Epoch 00009: saving model to model_init_2022-05-1813_53_31.147025/model-00009-1.43056-0.37811-1.33594-0.34000.h5\n",
      "67/67 [==============================] - 34s 521ms/step - loss: 1.4306 - categorical_accuracy: 0.3781 - val_loss: 1.3359 - val_categorical_accuracy: 0.3400 - lr: 5.0000e-04\n",
      "Epoch 10/30\n",
      "67/67 [==============================] - ETA: 0s - loss: 1.3307 - categorical_accuracy: 0.3781\n",
      "Epoch 00010: saving model to model_init_2022-05-1813_53_31.147025/model-00010-1.33069-0.37811-1.20358-0.39000.h5\n",
      "67/67 [==============================] - 34s 512ms/step - loss: 1.3307 - categorical_accuracy: 0.3781 - val_loss: 1.2036 - val_categorical_accuracy: 0.3900 - lr: 5.0000e-04\n",
      "Epoch 11/30\n",
      "67/67 [==============================] - ETA: 0s - loss: 1.3465 - categorical_accuracy: 0.4677\n",
      "Epoch 00011: saving model to model_init_2022-05-1813_53_31.147025/model-00011-1.34645-0.46766-1.10191-0.54000.h5\n",
      "67/67 [==============================] - 34s 511ms/step - loss: 1.3465 - categorical_accuracy: 0.4677 - val_loss: 1.1019 - val_categorical_accuracy: 0.5400 - lr: 5.0000e-04\n",
      "Epoch 12/30\n",
      "67/67 [==============================] - ETA: 0s - loss: 1.3162 - categorical_accuracy: 0.4229\n",
      "Epoch 00012: saving model to model_init_2022-05-1813_53_31.147025/model-00012-1.31624-0.42289-1.12702-0.50000.h5\n",
      "67/67 [==============================] - 34s 519ms/step - loss: 1.3162 - categorical_accuracy: 0.4229 - val_loss: 1.1270 - val_categorical_accuracy: 0.5000 - lr: 5.0000e-04\n",
      "Epoch 13/30\n",
      "67/67 [==============================] - ETA: 0s - loss: 1.2139 - categorical_accuracy: 0.4726\n",
      "Epoch 00013: saving model to model_init_2022-05-1813_53_31.147025/model-00013-1.21389-0.47264-1.08285-0.62000.h5\n",
      "67/67 [==============================] - 33s 507ms/step - loss: 1.2139 - categorical_accuracy: 0.4726 - val_loss: 1.0828 - val_categorical_accuracy: 0.6200 - lr: 5.0000e-04\n",
      "Epoch 14/30\n",
      "67/67 [==============================] - ETA: 0s - loss: 1.2779 - categorical_accuracy: 0.4726\n",
      "Epoch 00014: saving model to model_init_2022-05-1813_53_31.147025/model-00014-1.27789-0.47264-1.15329-0.50000.h5\n",
      "67/67 [==============================] - 33s 495ms/step - loss: 1.2779 - categorical_accuracy: 0.4726 - val_loss: 1.1533 - val_categorical_accuracy: 0.5000 - lr: 5.0000e-04\n",
      "Epoch 15/30\n",
      "67/67 [==============================] - ETA: 0s - loss: 1.2324 - categorical_accuracy: 0.5124\n",
      "Epoch 00015: saving model to model_init_2022-05-1813_53_31.147025/model-00015-1.23241-0.51244-0.97848-0.61000.h5\n",
      "67/67 [==============================] - 34s 512ms/step - loss: 1.2324 - categorical_accuracy: 0.5124 - val_loss: 0.9785 - val_categorical_accuracy: 0.6100 - lr: 5.0000e-04\n",
      "Epoch 16/30\n",
      "67/67 [==============================] - ETA: 0s - loss: 1.1784 - categorical_accuracy: 0.4478\n",
      "Epoch 00016: saving model to model_init_2022-05-1813_53_31.147025/model-00016-1.17836-0.44776-0.99084-0.54000.h5\n",
      "67/67 [==============================] - 35s 525ms/step - loss: 1.1784 - categorical_accuracy: 0.4478 - val_loss: 0.9908 - val_categorical_accuracy: 0.5400 - lr: 5.0000e-04\n",
      "Epoch 17/30\n",
      "67/67 [==============================] - ETA: 0s - loss: 1.1331 - categorical_accuracy: 0.5224\n",
      "Epoch 00017: saving model to model_init_2022-05-1813_53_31.147025/model-00017-1.13312-0.52239-1.00187-0.61000.h5\n",
      "\n",
      "Epoch 00017: ReduceLROnPlateau reducing learning rate to 0.0002500000118743628.\n",
      "67/67 [==============================] - 33s 499ms/step - loss: 1.1331 - categorical_accuracy: 0.5224 - val_loss: 1.0019 - val_categorical_accuracy: 0.6100 - lr: 5.0000e-04\n",
      "Epoch 18/30\n",
      "67/67 [==============================] - ETA: 0s - loss: 1.1496 - categorical_accuracy: 0.5473\n",
      "Epoch 00018: saving model to model_init_2022-05-1813_53_31.147025/model-00018-1.14958-0.54726-0.98233-0.58000.h5\n",
      "67/67 [==============================] - 33s 492ms/step - loss: 1.1496 - categorical_accuracy: 0.5473 - val_loss: 0.9823 - val_categorical_accuracy: 0.5800 - lr: 2.5000e-04\n",
      "Epoch 19/30\n",
      "67/67 [==============================] - ETA: 0s - loss: 1.0676 - categorical_accuracy: 0.5473\n",
      "Epoch 00019: saving model to model_init_2022-05-1813_53_31.147025/model-00019-1.06757-0.54726-0.88769-0.61000.h5\n",
      "67/67 [==============================] - 32s 483ms/step - loss: 1.0676 - categorical_accuracy: 0.5473 - val_loss: 0.8877 - val_categorical_accuracy: 0.6100 - lr: 2.5000e-04\n",
      "Epoch 20/30\n",
      "67/67 [==============================] - ETA: 0s - loss: 1.0287 - categorical_accuracy: 0.5522\n",
      "Epoch 00020: saving model to model_init_2022-05-1813_53_31.147025/model-00020-1.02872-0.55224-0.93566-0.63000.h5\n",
      "67/67 [==============================] - 35s 534ms/step - loss: 1.0287 - categorical_accuracy: 0.5522 - val_loss: 0.9357 - val_categorical_accuracy: 0.6300 - lr: 2.5000e-04\n",
      "Epoch 21/30\n",
      "67/67 [==============================] - ETA: 0s - loss: 1.0300 - categorical_accuracy: 0.5771\n",
      "Epoch 00021: saving model to model_init_2022-05-1813_53_31.147025/model-00021-1.02995-0.57711-0.92116-0.59000.h5\n",
      "\n",
      "Epoch 00021: ReduceLROnPlateau reducing learning rate to 0.0001250000059371814.\n",
      "67/67 [==============================] - 36s 538ms/step - loss: 1.0300 - categorical_accuracy: 0.5771 - val_loss: 0.9212 - val_categorical_accuracy: 0.5900 - lr: 2.5000e-04\n",
      "Epoch 22/30\n",
      "67/67 [==============================] - ETA: 0s - loss: 1.0220 - categorical_accuracy: 0.5274\n",
      "Epoch 00022: saving model to model_init_2022-05-1813_53_31.147025/model-00022-1.02203-0.52736-0.88152-0.65000.h5\n",
      "67/67 [==============================] - 34s 509ms/step - loss: 1.0220 - categorical_accuracy: 0.5274 - val_loss: 0.8815 - val_categorical_accuracy: 0.6500 - lr: 1.2500e-04\n",
      "Epoch 23/30\n",
      "67/67 [==============================] - ETA: 0s - loss: 0.9642 - categorical_accuracy: 0.6269\n",
      "Epoch 00023: saving model to model_init_2022-05-1813_53_31.147025/model-00023-0.96419-0.62687-0.88701-0.69000.h5\n",
      "67/67 [==============================] - 34s 511ms/step - loss: 0.9642 - categorical_accuracy: 0.6269 - val_loss: 0.8870 - val_categorical_accuracy: 0.6900 - lr: 1.2500e-04\n",
      "Epoch 24/30\n",
      "67/67 [==============================] - ETA: 0s - loss: 0.8178 - categorical_accuracy: 0.6816\n",
      "Epoch 00024: saving model to model_init_2022-05-1813_53_31.147025/model-00024-0.81778-0.68159-0.85990-0.68000.h5\n",
      "67/67 [==============================] - 34s 520ms/step - loss: 0.8178 - categorical_accuracy: 0.6816 - val_loss: 0.8599 - val_categorical_accuracy: 0.6800 - lr: 1.2500e-04\n",
      "Epoch 25/30\n",
      "67/67 [==============================] - ETA: 0s - loss: 0.8588 - categorical_accuracy: 0.6418\n",
      "Epoch 00025: saving model to model_init_2022-05-1813_53_31.147025/model-00025-0.85877-0.64179-0.70798-0.75000.h5\n",
      "67/67 [==============================] - 36s 552ms/step - loss: 0.8588 - categorical_accuracy: 0.6418 - val_loss: 0.7080 - val_categorical_accuracy: 0.7500 - lr: 1.2500e-04\n",
      "Epoch 26/30\n",
      "67/67 [==============================] - ETA: 0s - loss: 1.0221 - categorical_accuracy: 0.5771\n",
      "Epoch 00026: saving model to model_init_2022-05-1813_53_31.147025/model-00026-1.02209-0.57711-0.70255-0.69000.h5\n",
      "67/67 [==============================] - 33s 503ms/step - loss: 1.0221 - categorical_accuracy: 0.5771 - val_loss: 0.7025 - val_categorical_accuracy: 0.6900 - lr: 1.2500e-04\n",
      "Epoch 27/30\n",
      "67/67 [==============================] - ETA: 0s - loss: 0.9046 - categorical_accuracy: 0.6269\n",
      "Epoch 00027: saving model to model_init_2022-05-1813_53_31.147025/model-00027-0.90464-0.62687-0.95963-0.59000.h5\n",
      "67/67 [==============================] - 37s 559ms/step - loss: 0.9046 - categorical_accuracy: 0.6269 - val_loss: 0.9596 - val_categorical_accuracy: 0.5900 - lr: 1.2500e-04\n",
      "Epoch 28/30\n",
      "67/67 [==============================] - ETA: 0s - loss: 0.9142 - categorical_accuracy: 0.5920\n",
      "Epoch 00028: saving model to model_init_2022-05-1813_53_31.147025/model-00028-0.91418-0.59204-0.73566-0.73000.h5\n",
      "\n",
      "Epoch 00028: ReduceLROnPlateau reducing learning rate to 6.25000029685907e-05.\n",
      "67/67 [==============================] - 35s 530ms/step - loss: 0.9142 - categorical_accuracy: 0.5920 - val_loss: 0.7357 - val_categorical_accuracy: 0.7300 - lr: 1.2500e-04\n",
      "Epoch 29/30\n",
      "67/67 [==============================] - ETA: 0s - loss: 0.8169 - categorical_accuracy: 0.6567\n",
      "Epoch 00029: saving model to model_init_2022-05-1813_53_31.147025/model-00029-0.81695-0.65672-0.78206-0.71000.h5\n",
      "67/67 [==============================] - 37s 560ms/step - loss: 0.8169 - categorical_accuracy: 0.6567 - val_loss: 0.7821 - val_categorical_accuracy: 0.7100 - lr: 6.2500e-05\n",
      "Epoch 30/30\n",
      "67/67 [==============================] - ETA: 0s - loss: 0.8563 - categorical_accuracy: 0.6169\n",
      "Epoch 00030: saving model to model_init_2022-05-1813_53_31.147025/model-00030-0.85629-0.61692-0.69346-0.77000.h5\n",
      "67/67 [==============================] - 35s 538ms/step - loss: 0.8563 - categorical_accuracy: 0.6169 - val_loss: 0.6935 - val_categorical_accuracy: 0.7700 - lr: 6.2500e-05\n"
     ]
    },
    {
     "data": {
      "text/plain": [
       "<keras.callbacks.History at 0x7f9b18543dc0>"
      ]
     },
     "execution_count": 33,
     "metadata": {},
     "output_type": "execute_result"
    }
   ],
   "source": [
    "batch_size = 10\n",
    "train_generator = new_generator(train_path, train_doc, batch_size)\n",
    "val_generator = new_generator(val_path, val_doc, batch_size)\n",
    "num_epochs = 30\n",
    "model_e.fit_generator(train_generator, steps_per_epoch=steps_per_epoch, epochs=num_epochs, verbose=1, \n",
    "                    callbacks=callbacks_list, validation_data=val_generator, \n",
    "                    validation_steps=validation_steps, class_weight=None, workers=1, initial_epoch=0)"
   ]
  },
  {
   "cell_type": "code",
   "execution_count": 34,
   "metadata": {},
   "outputs": [],
   "source": [
    "def get_random_affine():\n",
    "    dx, dy = np.random.randint(-1.7, 1.8, 2)\n",
    "    M = np.float32([[1, 0, dx], [0, 1, dy]])\n",
    "    return M"
   ]
  },
  {
   "cell_type": "code",
   "execution_count": 35,
   "metadata": {},
   "outputs": [],
   "source": [
    "def aug_generator(source_path, folder_list, batch_size):\n",
    "      \n",
    "    print( 'Source path = ', source_path, '; batch size =', batch_size)\n",
    "    img_idx = [x for x in range(0,nb_frames)] #create a list of image numbers you want to use for a particular video\n",
    "    while True:\n",
    "        t = np.random.permutation(folder_list)\n",
    "        num_batches = len(folder_list)//batch_size # calculate the number of batches\n",
    "        for batch in range(num_batches): # we iterate over the number of batches\n",
    "            batch_data = np.zeros((batch_size,nb_frames,nb_rows,nb_cols,nb_channel)) # x is the number of images you use for each video, (y,z) is the final size of the input images and 3 is the number of channels RGB\n",
    "            batch_labels = np.zeros((batch_size,5)) # batch_labels is the one hot representation of the output\n",
    "            \n",
    "            batch_data_aug = np.zeros((batch_size,nb_frames,nb_rows,nb_cols,nb_channel)) # x is the number of images you use for each video, (y,z) is the final size of the input images and 3 is the number of channels RGB\n",
    "            batch_labels_aug = np.zeros((batch_size,5)) # batch_labels is the one hot representation of the output\n",
    "  \n",
    "            batch_data_aug2 = np.zeros((batch_size,nb_frames,nb_rows,nb_cols,nb_channel)) # x is the number of images you use for each video, (y,z) is the final size of the input images and 3 is the number of channels RGB\n",
    "            batch_labels_aug2 = np.zeros((batch_size,5)) # batch_labels is the one hot representation of the output\n",
    " \n",
    "            batch_data_aug3 = np.zeros((batch_size,nb_frames,nb_rows,nb_cols,nb_channel)) # x is the number of images you use for each video, (y,z) is the final size of the input images and 3 is the number of channels RGB\n",
    "            batch_labels_aug3 = np.zeros((batch_size,5)) # batch_labels is the one hot representation of the output\n",
    "      \n",
    "            for folder in range(batch_size): # iterate over the batch_size\n",
    "                imgs = os.listdir(source_path+'/'+ t[folder + (batch*batch_size)].split(';')[0]) # read all the images in the folder\n",
    "                M = get_random_affine()\n",
    "                M2 = get_random_affine()\n",
    "                M3 = get_random_affine()\n",
    "                for idx,item in enumerate(img_idx): #  Iterate iver the frames/images of a folder to read them in\n",
    "                    image = cv2.imread(source_path+'/'+ t[folder + (batch*batch_size)].strip().split(';')[0]+'/'+imgs[item], cv2.IMREAD_COLOR)\n",
    "                    image = cv2.cvtColor(image, cv2.COLOR_BGR2RGB)\n",
    "                    #crop the images and resize them. Note that the images are of 2 different shape \n",
    "                    #and the conv3D will throw error if the inputs in a batch have different shapes   \n",
    "                    resized = cv2.resize(image, (nb_rows,nb_cols), interpolation = cv2.INTER_AREA)\n",
    "                    batch_data[folder,idx] = resized\n",
    "                    batch_data_aug[folder,idx] = cv2.warpAffine(resized, M, (resized.shape[0], resized.shape[1]))\n",
    "                    batch_data_aug2[folder,idx] = cv2.warpAffine(resized, M2, (resized.shape[0], resized.shape[1]))\n",
    "                    batch_data_aug3[folder,idx] = cv2.warpAffine(resized, M3, (resized.shape[0], resized.shape[1]))\n",
    "                        \n",
    "                batch_labels[folder, int(t[folder + (batch*batch_size)].strip().split(';')[2])] = 1\n",
    "                batch_labels_aug[folder, int(t[folder + (batch*batch_size)].strip().split(';')[2])] = 1\n",
    "                batch_labels_aug2[folder, int(t[folder + (batch*batch_size)].strip().split(';')[2])] = 1\n",
    "                batch_labels_aug3[folder, int(t[folder + (batch*batch_size)].strip().split(';')[2])] = 1\n",
    "            \n",
    "            batch_data = np.append(batch_data, batch_data_aug, axis = 0) \n",
    "            batch_data = np.append(batch_data, batch_data_aug2, axis = 0) \n",
    "            batch_data = np.append(batch_data, batch_data_aug3, axis = 0)\n",
    "            batch_labels = np.append(batch_labels, batch_labels_aug, axis = 0) \n",
    "            batch_labels = np.append(batch_labels, batch_labels_aug2, axis = 0) \n",
    "            batch_labels = np.append(batch_labels, batch_labels_aug3, axis = 0)\n",
    "            yield batch_data, batch_labels #you yield the batch_data and the batch_labels, remember what does yield do\n",
    "\n",
    "        \n",
    "        # write the code for the remaining data points which are left after full batches\n",
    "        if (len(folder_list) != batch_size*num_batches):\n",
    "            print(\"Batch: \",num_batches+1,\"Index:\", batch_size)\n",
    "            batch_size = len(folder_list) - (batch_size*num_batches)\n",
    "            \n",
    "            batch_data = np.zeros((batch_size,nb_frames,nb_rows,nb_cols,nb_channel)) # x is the number of images you use for each video, (y,z) is the final size of the input images and 3 is the number of channels RGB\n",
    "            batch_labels = np.zeros((batch_size,5)) # batch_labels is the one hot representation of the output\n",
    "            \n",
    "            batch_data_aug = np.zeros((batch_size,nb_frames,nb_rows,nb_cols,nb_channel)) # x is the number of images you use for each video, (y,z) is the final size of the input images and 3 is the number of channels RGB\n",
    "            batch_labels_aug = np.zeros((batch_size,5)) # batch_labels is the one hot representation of the output\n",
    "  \n",
    "            batch_data_aug2 = np.zeros((batch_size,nb_frames,nb_rows,nb_cols,nb_channel)) # x is the number of images you use for each video, (y,z) is the final size of the input images and 3 is the number of channels RGB\n",
    "            batch_labels_aug2 = np.zeros((batch_size,5)) # batch_labels is the one hot representation of the output\n",
    "   \n",
    "            batch_data_aug3 = np.zeros((batch_size,nb_frames,nb_rows,nb_cols,nb_channel)) # x is the number of images you use for each video, (y,z) is the final size of the input images and 3 is the number of channels RGB\n",
    "            batch_labels_aug3 = np.zeros((batch_size,5)) # batch_labels is the one hot representation of the output\n",
    "      \n",
    "            for folder in range(batch_size): # iterate over the batch_size\n",
    "                imgs = os.listdir(source_path+'/'+ t[folder + (batch*batch_size)].split(';')[0]) # read all the images in the folder\n",
    "                M = get_random_affine()\n",
    "                M2 = get_random_affine()\n",
    "                M3 = get_random_affine()\n",
    "                for idx,item in enumerate(img_idx): #  Iterate iver the frames/images of a folder to read them in\n",
    "                    image = cv2.imread(source_path+'/'+ t[folder + (batch*batch_size)].strip().split(';')[0]+'/'+imgs[item], cv2.IMREAD_COLOR)\n",
    "                    image = cv2.cvtColor(image, cv2.COLOR_BGR2RGB)\n",
    "                    #crop the images and resize them. Note that the images are of 2 different shape \n",
    "                    #and the conv3D will throw error if the inputs in a batch have different shapes\n",
    "                    resized = cv2.resize(image, (nb_rows,nb_cols), interpolation = cv2.INTER_AREA)\n",
    "                    batch_data[folder,idx] = resized\n",
    "                    batch_data_aug[folder,idx] = cv2.warpAffine(resized, M, (resized.shape[0], resized.shape[1]))\n",
    "                    batch_data_aug2[folder,idx] = cv2.warpAffine(resized, M2, (resized.shape[0], resized.shape[1]))\n",
    "                    batch_data_aug3[folder,idx] = cv2.warpAffine(resized, M3, (resized.shape[0], resized.shape[1]))\n",
    "                    \n",
    "                batch_labels[folder, int(t[folder + (batch*batch_size)].strip().split(';')[2])] = 1\n",
    "                batch_labels_aug[folder, int(t[folder + (batch*batch_size)].strip().split(';')[2])] = 1\n",
    "                batch_labels_aug2[folder, int(t[folder + (batch*batch_size)].strip().split(';')[2])] = 1\n",
    "                batch_labels_aug3[folder, int(t[folder + (batch*batch_size)].strip().split(';')[2])] = 1\n",
    "            \n",
    "            batch_data = np.append(batch_data, batch_data_aug, axis = 0) \n",
    "            batch_data = np.append(batch_data, batch_data_aug2, axis = 0) \n",
    "            batch_data = np.append(batch_data, batch_data_aug3, axis = 0)\n",
    "            batch_labels = np.append(batch_labels, batch_labels_aug, axis = 0) \n",
    "            batch_labels = np.append(batch_labels, batch_labels_aug2, axis = 0) \n",
    "            batch_labels = np.append(batch_labels, batch_labels_aug3, axis = 0) \n",
    "            yield batch_data, batch_labels"
   ]
  },
  {
   "cell_type": "code",
   "execution_count": 36,
   "metadata": {},
   "outputs": [
    {
     "name": "stdout",
     "output_type": "stream",
     "text": [
      "Model: \"sequential_5\"\n",
      "_________________________________________________________________\n",
      " Layer (type)                Output Shape              Param #   \n",
      "=================================================================\n",
      " conv3d_24 (Conv3D)          (None, 30, 120, 120, 8)   656       \n",
      "                                                                 \n",
      " batch_normalization_10 (Bat  (None, 30, 120, 120, 8)  32        \n",
      " chNormalization)                                                \n",
      "                                                                 \n",
      " activation_24 (Activation)  (None, 30, 120, 120, 8)   0         \n",
      "                                                                 \n",
      " max_pooling3d_16 (MaxPoolin  (None, 15, 60, 60, 8)    0         \n",
      " g3D)                                                            \n",
      "                                                                 \n",
      " conv3d_25 (Conv3D)          (None, 15, 60, 60, 16)    3472      \n",
      "                                                                 \n",
      " batch_normalization_11 (Bat  (None, 15, 60, 60, 16)   64        \n",
      " chNormalization)                                                \n",
      "                                                                 \n",
      " activation_25 (Activation)  (None, 15, 60, 60, 16)    0         \n",
      "                                                                 \n",
      " max_pooling3d_17 (MaxPoolin  (None, 7, 30, 30, 16)    0         \n",
      " g3D)                                                            \n",
      "                                                                 \n",
      " conv3d_26 (Conv3D)          (None, 7, 30, 30, 32)     4640      \n",
      "                                                                 \n",
      " batch_normalization_12 (Bat  (None, 7, 30, 30, 32)    128       \n",
      " chNormalization)                                                \n",
      "                                                                 \n",
      " activation_26 (Activation)  (None, 7, 30, 30, 32)     0         \n",
      "                                                                 \n",
      " max_pooling3d_18 (MaxPoolin  (None, 3, 15, 15, 32)    0         \n",
      " g3D)                                                            \n",
      "                                                                 \n",
      " conv3d_27 (Conv3D)          (None, 3, 15, 15, 64)     18496     \n",
      "                                                                 \n",
      " batch_normalization_13 (Bat  (None, 3, 15, 15, 64)    256       \n",
      " chNormalization)                                                \n",
      "                                                                 \n",
      " activation_27 (Activation)  (None, 3, 15, 15, 64)     0         \n",
      "                                                                 \n",
      " max_pooling3d_19 (MaxPoolin  (None, 1, 7, 7, 64)      0         \n",
      " g3D)                                                            \n",
      "                                                                 \n",
      " flatten_5 (Flatten)         (None, 3136)              0         \n",
      "                                                                 \n",
      " dense_12 (Dense)            (None, 1000)              3137000   \n",
      "                                                                 \n",
      " dropout_15 (Dropout)        (None, 1000)              0         \n",
      "                                                                 \n",
      " dense_13 (Dense)            (None, 500)               500500    \n",
      "                                                                 \n",
      " dropout_16 (Dropout)        (None, 500)               0         \n",
      "                                                                 \n",
      " dense_14 (Dense)            (None, 5)                 2505      \n",
      "                                                                 \n",
      "=================================================================\n",
      "Total params: 3,667,749\n",
      "Trainable params: 3,667,509\n",
      "Non-trainable params: 240\n",
      "_________________________________________________________________\n"
     ]
    }
   ],
   "source": [
    "nb_frames = 30 # number of frames\n",
    "nb_rows = 120 # image width\n",
    "nb_cols = 120 # image height \n",
    "\n",
    "nb_classes = 5\n",
    "nb_channel = 3\n",
    "\n",
    "input_shape=(nb_frames,nb_rows,nb_cols,nb_channel)\n",
    "\n",
    "# Define model\n",
    "model_f = Sequential()\n",
    "\n",
    "model_f.add(Conv3D(nb_filters[0], \n",
    "                 kernel_size=(3,3,3), \n",
    "                 input_shape=input_shape,\n",
    "                 padding='same'))\n",
    "model_f.add(BatchNormalization())\n",
    "model_f.add(Activation('relu'))\n",
    "\n",
    "model_f.add(MaxPooling3D(pool_size=(2,2,2)))\n",
    "\n",
    "model_f.add(Conv3D(nb_filters[1], \n",
    "                 kernel_size=(3,3,3), \n",
    "                 padding='same'))\n",
    "model_f.add(BatchNormalization())\n",
    "model_f.add(Activation('relu'))\n",
    "\n",
    "model_f.add(MaxPooling3D(pool_size=(2,2,2)))\n",
    "\n",
    "model_f.add(Conv3D(nb_filters[2], \n",
    "                 kernel_size=(1,3,3), \n",
    "                 padding='same'))\n",
    "model_f.add(BatchNormalization())\n",
    "model_f.add(Activation('relu'))\n",
    "\n",
    "model_f.add(MaxPooling3D(pool_size=(2,2,2)))\n",
    "\n",
    "model_f.add(Conv3D(nb_filters[3], \n",
    "                 kernel_size=(1,3,3), \n",
    "                 padding='same'))\n",
    "model_f.add(BatchNormalization())\n",
    "model_f.add(Activation('relu'))\n",
    "\n",
    "model_f.add(MaxPooling3D(pool_size=(2,2,2)))\n",
    "\n",
    "#Flatten Layers\n",
    "model_f.add(Flatten())\n",
    "\n",
    "model_f.add(Dense(nb_dense[0], activation='relu'))\n",
    "model_f.add(Dropout(0.5))\n",
    "\n",
    "model_f.add(Dense(nb_dense[1], activation='relu'))\n",
    "model_f.add(Dropout(0.5))\n",
    "\n",
    "#softmax layer\n",
    "model_f.add(Dense(nb_dense[2], activation='softmax'))\n",
    "model_f.compile(optimizer='adam', loss='categorical_crossentropy', metrics=['categorical_accuracy'])\n",
    "model_f.summary()"
   ]
  },
  {
   "cell_type": "code",
   "execution_count": 37,
   "metadata": {},
   "outputs": [
    {
     "name": "stdout",
     "output_type": "stream",
     "text": [
      "Source path =  datasets/Project_data/train ; batch size = 5\n"
     ]
    },
    {
     "name": "stderr",
     "output_type": "stream",
     "text": [
      "/tmp/ipykernel_389/1853878729.py:5: UserWarning: `Model.fit_generator` is deprecated and will be removed in a future version. Please use `Model.fit`, which supports generators.\n",
      "  model_f.fit_generator(train_generator, steps_per_epoch=steps_per_epoch, epochs=num_epochs, verbose=1,\n"
     ]
    },
    {
     "name": "stdout",
     "output_type": "stream",
     "text": [
      "Epoch 1/20\n",
      "67/67 [==============================] - ETA: 0s - loss: 3.5132 - categorical_accuracy: 0.2821Source path =  datasets/Project_data/val ; batch size = 5\n",
      "\n",
      "Epoch 00001: saving model to model_init_2022-05-1813_53_31.147025/model-00001-3.51316-0.28209-4.75352-0.22000.h5\n",
      "67/67 [==============================] - 56s 828ms/step - loss: 3.5132 - categorical_accuracy: 0.2821 - val_loss: 4.7535 - val_categorical_accuracy: 0.2200 - lr: 0.0010\n",
      "Epoch 2/20\n",
      "64/67 [===========================>..] - ETA: 2s - loss: 1.4458 - categorical_accuracy: 0.3820Batch:  133 Index: 5\n",
      "67/67 [==============================] - ETA: 0s - loss: 1.4473 - categorical_accuracy: 0.3807\n",
      "Epoch 00002: saving model to model_init_2022-05-1813_53_31.147025/model-00002-1.44726-0.38066-1.67812-0.38000.h5\n",
      "67/67 [==============================] - 57s 860ms/step - loss: 1.4473 - categorical_accuracy: 0.3807 - val_loss: 1.6781 - val_categorical_accuracy: 0.3800 - lr: 0.0010\n",
      "Epoch 3/20\n",
      "67/67 [==============================] - ETA: 0s - loss: 1.5458 - categorical_accuracy: 0.3358\n",
      "Epoch 00003: saving model to model_init_2022-05-1813_53_31.147025/model-00003-1.54582-0.33582-1.23794-0.44000.h5\n",
      "67/67 [==============================] - 38s 580ms/step - loss: 1.5458 - categorical_accuracy: 0.3358 - val_loss: 1.2379 - val_categorical_accuracy: 0.4400 - lr: 0.0010\n",
      "Epoch 4/20\n",
      "67/67 [==============================] - ETA: 0s - loss: 1.4902 - categorical_accuracy: 0.3806\n",
      "Epoch 00004: saving model to model_init_2022-05-1813_53_31.147025/model-00004-1.49015-0.38060-1.18042-0.44000.h5\n",
      "67/67 [==============================] - 39s 587ms/step - loss: 1.4902 - categorical_accuracy: 0.3806 - val_loss: 1.1804 - val_categorical_accuracy: 0.4400 - lr: 0.0010\n",
      "Epoch 5/20\n",
      "67/67 [==============================] - ETA: 0s - loss: 1.4386 - categorical_accuracy: 0.3756\n",
      "Epoch 00005: saving model to model_init_2022-05-1813_53_31.147025/model-00005-1.43862-0.37562-1.28356-0.38000.h5\n",
      "67/67 [==============================] - 38s 578ms/step - loss: 1.4386 - categorical_accuracy: 0.3756 - val_loss: 1.2836 - val_categorical_accuracy: 0.3800 - lr: 0.0010\n",
      "Epoch 6/20\n",
      "67/67 [==============================] - ETA: 0s - loss: 1.3266 - categorical_accuracy: 0.4279\n",
      "Epoch 00006: saving model to model_init_2022-05-1813_53_31.147025/model-00006-1.32663-0.42786-1.12803-0.56000.h5\n",
      "67/67 [==============================] - 38s 581ms/step - loss: 1.3266 - categorical_accuracy: 0.4279 - val_loss: 1.1280 - val_categorical_accuracy: 0.5600 - lr: 0.0010\n",
      "Epoch 7/20\n",
      "67/67 [==============================] - ETA: 0s - loss: 1.2982 - categorical_accuracy: 0.4789\n",
      "Epoch 00007: saving model to model_init_2022-05-1813_53_31.147025/model-00007-1.29816-0.47886-1.55080-0.46000.h5\n",
      "67/67 [==============================] - 38s 578ms/step - loss: 1.2982 - categorical_accuracy: 0.4789 - val_loss: 1.5508 - val_categorical_accuracy: 0.4600 - lr: 0.0010\n",
      "Epoch 8/20\n",
      "67/67 [==============================] - ETA: 0s - loss: 1.2275 - categorical_accuracy: 0.4577\n",
      "Epoch 00008: saving model to model_init_2022-05-1813_53_31.147025/model-00008-1.22751-0.45771-0.92245-0.64500.h5\n",
      "67/67 [==============================] - 38s 582ms/step - loss: 1.2275 - categorical_accuracy: 0.4577 - val_loss: 0.9225 - val_categorical_accuracy: 0.6450 - lr: 0.0010\n",
      "Epoch 9/20\n",
      "67/67 [==============================] - ETA: 0s - loss: 1.1127 - categorical_accuracy: 0.5236\n",
      "Epoch 00009: saving model to model_init_2022-05-1813_53_31.147025/model-00009-1.11267-0.52363-0.97601-0.61500.h5\n",
      "67/67 [==============================] - 38s 579ms/step - loss: 1.1127 - categorical_accuracy: 0.5236 - val_loss: 0.9760 - val_categorical_accuracy: 0.6150 - lr: 0.0010\n",
      "Epoch 10/20\n",
      "67/67 [==============================] - ETA: 0s - loss: 1.2208 - categorical_accuracy: 0.4925\n",
      "Epoch 00010: saving model to model_init_2022-05-1813_53_31.147025/model-00010-1.22075-0.49254-1.34593-0.55000.h5\n",
      "\n",
      "Epoch 00010: ReduceLROnPlateau reducing learning rate to 0.0005000000237487257.\n",
      "67/67 [==============================] - 38s 570ms/step - loss: 1.2208 - categorical_accuracy: 0.4925 - val_loss: 1.3459 - val_categorical_accuracy: 0.5500 - lr: 0.0010\n",
      "Epoch 11/20\n",
      "67/67 [==============================] - ETA: 0s - loss: 1.0739 - categorical_accuracy: 0.5510\n",
      "Epoch 00011: saving model to model_init_2022-05-1813_53_31.147025/model-00011-1.07393-0.55100-0.86186-0.62000.h5\n",
      "67/67 [==============================] - 38s 573ms/step - loss: 1.0739 - categorical_accuracy: 0.5510 - val_loss: 0.8619 - val_categorical_accuracy: 0.6200 - lr: 5.0000e-04\n",
      "Epoch 12/20\n",
      "67/67 [==============================] - ETA: 0s - loss: 1.0173 - categorical_accuracy: 0.6070\n",
      "Epoch 00012: saving model to model_init_2022-05-1813_53_31.147025/model-00012-1.01732-0.60697-1.00512-0.58500.h5\n",
      "67/67 [==============================] - 39s 587ms/step - loss: 1.0173 - categorical_accuracy: 0.6070 - val_loss: 1.0051 - val_categorical_accuracy: 0.5850 - lr: 5.0000e-04\n",
      "Epoch 13/20\n",
      "67/67 [==============================] - ETA: 0s - loss: 0.9519 - categorical_accuracy: 0.6169\n",
      "Epoch 00013: saving model to model_init_2022-05-1813_53_31.147025/model-00013-0.95186-0.61692-0.90706-0.75000.h5\n",
      "\n",
      "Epoch 00013: ReduceLROnPlateau reducing learning rate to 0.0002500000118743628.\n",
      "67/67 [==============================] - 37s 554ms/step - loss: 0.9519 - categorical_accuracy: 0.6169 - val_loss: 0.9071 - val_categorical_accuracy: 0.7500 - lr: 5.0000e-04\n",
      "Epoch 14/20\n",
      "67/67 [==============================] - ETA: 0s - loss: 0.8022 - categorical_accuracy: 0.6754\n",
      "Epoch 00014: saving model to model_init_2022-05-1813_53_31.147025/model-00014-0.80216-0.67537-0.88857-0.67500.h5\n",
      "67/67 [==============================] - 37s 566ms/step - loss: 0.8022 - categorical_accuracy: 0.6754 - val_loss: 0.8886 - val_categorical_accuracy: 0.6750 - lr: 2.5000e-04\n",
      "Epoch 15/20\n",
      "67/67 [==============================] - ETA: 0s - loss: 0.8396 - categorical_accuracy: 0.7114\n",
      "Epoch 00015: saving model to model_init_2022-05-1813_53_31.147025/model-00015-0.83956-0.71144-0.74585-0.74500.h5\n",
      "67/67 [==============================] - 38s 580ms/step - loss: 0.8396 - categorical_accuracy: 0.7114 - val_loss: 0.7458 - val_categorical_accuracy: 0.7450 - lr: 2.5000e-04\n",
      "Epoch 16/20\n",
      "67/67 [==============================] - ETA: 0s - loss: 0.7272 - categorical_accuracy: 0.7363\n",
      "Epoch 00016: saving model to model_init_2022-05-1813_53_31.147025/model-00016-0.72718-0.73632-0.70127-0.74500.h5\n",
      "67/67 [==============================] - 38s 577ms/step - loss: 0.7272 - categorical_accuracy: 0.7363 - val_loss: 0.7013 - val_categorical_accuracy: 0.7450 - lr: 2.5000e-04\n",
      "Epoch 17/20\n",
      "67/67 [==============================] - ETA: 0s - loss: 0.8284 - categorical_accuracy: 0.6642\n",
      "Epoch 00017: saving model to model_init_2022-05-1813_53_31.147025/model-00017-0.82839-0.66418-0.63026-0.79500.h5\n",
      "67/67 [==============================] - 38s 579ms/step - loss: 0.8284 - categorical_accuracy: 0.6642 - val_loss: 0.6303 - val_categorical_accuracy: 0.7950 - lr: 2.5000e-04\n",
      "Epoch 18/20\n",
      "67/67 [==============================] - ETA: 0s - loss: 0.7043 - categorical_accuracy: 0.7438\n",
      "Epoch 00018: saving model to model_init_2022-05-1813_53_31.147025/model-00018-0.70432-0.74378-0.63258-0.74000.h5\n",
      "67/67 [==============================] - 38s 571ms/step - loss: 0.7043 - categorical_accuracy: 0.7438 - val_loss: 0.6326 - val_categorical_accuracy: 0.7400 - lr: 2.5000e-04\n",
      "Epoch 19/20\n",
      "67/67 [==============================] - ETA: 0s - loss: 0.6439 - categorical_accuracy: 0.7512\n",
      "Epoch 00019: saving model to model_init_2022-05-1813_53_31.147025/model-00019-0.64391-0.75124-0.59974-0.81000.h5\n",
      "67/67 [==============================] - 39s 587ms/step - loss: 0.6439 - categorical_accuracy: 0.7512 - val_loss: 0.5997 - val_categorical_accuracy: 0.8100 - lr: 2.5000e-04\n",
      "Epoch 20/20\n",
      "67/67 [==============================] - ETA: 0s - loss: 0.5729 - categorical_accuracy: 0.7836\n",
      "Epoch 00020: saving model to model_init_2022-05-1813_53_31.147025/model-00020-0.57294-0.78358-0.49181-0.82500.h5\n",
      "67/67 [==============================] - 37s 564ms/step - loss: 0.5729 - categorical_accuracy: 0.7836 - val_loss: 0.4918 - val_categorical_accuracy: 0.8250 - lr: 2.5000e-04\n"
     ]
    },
    {
     "data": {
      "text/plain": [
       "<keras.callbacks.History at 0x7f9b182552b0>"
      ]
     },
     "execution_count": 37,
     "metadata": {},
     "output_type": "execute_result"
    }
   ],
   "source": [
    "batch_size = 5\n",
    "train_generator = aug_generator(train_path, train_doc, batch_size)\n",
    "val_generator = aug_generator(val_path, val_doc, batch_size)\n",
    "num_epochs = 20\n",
    "model_f.fit_generator(train_generator, steps_per_epoch=steps_per_epoch, epochs=num_epochs, verbose=1, \n",
    "                    callbacks=callbacks_list, validation_data=val_generator, \n",
    "                    validation_steps=validation_steps, class_weight=None, workers=1, initial_epoch=0)\n"
   ]
  },
  {
   "cell_type": "code",
   "execution_count": 38,
   "metadata": {},
   "outputs": [],
   "source": [
    "def aug_generator(source_path, folder_list, batch_size):\n",
    "      \n",
    "    print( 'Source path = ', source_path, '; batch size =', batch_size)\n",
    "    img_idx = [x for x in range(0,nb_frames)] #create a list of image numbers you want to use for a particular video\n",
    "    while True:\n",
    "        t = np.random.permutation(folder_list)\n",
    "        num_batches = len(folder_list)//batch_size # calculate the number of batches\n",
    "        for batch in range(num_batches): # we iterate over the number of batches\n",
    "            batch_data = np.zeros((batch_size,nb_frames,nb_rows,nb_cols,nb_channel)) # x is the number of images you use for each video, (y,z) is the final size of the input images and 3 is the number of channels RGB\n",
    "            batch_labels = np.zeros((batch_size,5)) # batch_labels is the one hot representation of the output\n",
    "            \n",
    "            batch_data_aug = np.zeros((batch_size,nb_frames,nb_rows,nb_cols,nb_channel)) # x is the number of images you use for each video, (y,z) is the final size of the input images and 3 is the number of channels RGB\n",
    "            batch_labels_aug = np.zeros((batch_size,5)) # batch_labels is the one hot representation of the output\n",
    "  \n",
    "            for folder in range(batch_size): # iterate over the batch_size\n",
    "                imgs = os.listdir(source_path+'/'+ t[folder + (batch*batch_size)].split(';')[0]) # read all the images in the folder\n",
    "                M = get_random_affine()\n",
    "                for idx,item in enumerate(img_idx): #  Iterate iver the frames/images of a folder to read them in\n",
    "                    image = cv2.imread(source_path+'/'+ t[folder + (batch*batch_size)].strip().split(';')[0]+'/'+imgs[item], cv2.IMREAD_COLOR)\n",
    "                    image = cv2.cvtColor(image, cv2.COLOR_BGR2RGB)\n",
    "                    #crop the images and resize them. Note that the images are of 2 different shape \n",
    "                    #and the conv3D will throw error if the inputs in a batch have different shapes   \n",
    "                    resized = cv2.resize(image, (nb_rows,nb_cols), interpolation = cv2.INTER_AREA)\n",
    "                    batch_data[folder,idx] = resized\n",
    "                    batch_data_aug[folder,idx] = cv2.warpAffine(resized, M, (resized.shape[0], resized.shape[1]))\n",
    "                    \n",
    "                batch_labels[folder, int(t[folder + (batch*batch_size)].strip().split(';')[2])] = 1\n",
    "                batch_labels_aug[folder, int(t[folder + (batch*batch_size)].strip().split(';')[2])] = 1\n",
    "            \n",
    "            batch_data = np.append(batch_data, batch_data_aug, axis = 0) \n",
    "            batch_labels = np.append(batch_labels, batch_labels_aug, axis = 0) \n",
    "            yield batch_data, batch_labels #you yield the batch_data and the batch_labels, remember what does yield do\n",
    "\n",
    "        \n",
    "        # write the code for the remaining data points which are left after full batches\n",
    "        if (len(folder_list) != batch_size*num_batches):\n",
    "            print(\"Batch: \",num_batches+1,\"Index:\", batch_size)\n",
    "            batch_size = len(folder_list) - (batch_size*num_batches)\n",
    "            \n",
    "            batch_data = np.zeros((batch_size,nb_frames,nb_rows,nb_cols,nb_channel)) # x is the number of images you use for each video, (y,z) is the final size of the input images and 3 is the number of channels RGB\n",
    "            batch_labels = np.zeros((batch_size,5)) # batch_labels is the one hot representation of the output\n",
    "            \n",
    "            batch_data_aug = np.zeros((batch_size,nb_frames,nb_rows,nb_cols,nb_channel)) # x is the number of images you use for each video, (y,z) is the final size of the input images and 3 is the number of channels RGB\n",
    "            batch_labels_aug = np.zeros((batch_size,5)) # batch_labels is the one hot representation of the output\n",
    "\n",
    "            for folder in range(batch_size): # iterate over the batch_size\n",
    "                imgs = os.listdir(source_path+'/'+ t[folder + (batch*batch_size)].split(';')[0]) # read all the images in the folder\n",
    "                M = get_random_affine()\n",
    "                for idx,item in enumerate(img_idx): #  Iterate iver the frames/images of a folder to read them in\n",
    "                    image = cv2.imread(source_path+'/'+ t[folder + (batch*batch_size)].strip().split(';')[0]+'/'+imgs[item], cv2.IMREAD_COLOR)\n",
    "                    image = cv2.cvtColor(image, cv2.COLOR_BGR2RGB)\n",
    "                    #crop the images and resize them. Note that the images are of 2 different shape \n",
    "                    #and the conv3D will throw error if the inputs in a batch have different shapes\n",
    "                    resized = cv2.resize(image, (nb_rows,nb_cols), interpolation = cv2.INTER_AREA)\n",
    "                    batch_data[folder,idx] = resized\n",
    "                    batch_data_aug[folder,idx] = cv2.warpAffine(resized, M, (resized.shape[0], resized.shape[1]))\n",
    "                    \n",
    "                batch_labels[folder, int(t[folder + (batch*batch_size)].strip().split(';')[2])] = 1\n",
    "                batch_labels_aug[folder, int(t[folder + (batch*batch_size)].strip().split(';')[2])] = 1\n",
    "            \n",
    "            batch_data = np.append(batch_data, batch_data_aug, axis = 0) \n",
    "            batch_labels = np.append(batch_labels, batch_labels_aug, axis = 0) \n",
    "\n",
    "            yield batch_data, batch_labels\n",
    "        "
   ]
  },
  {
   "cell_type": "code",
   "execution_count": 39,
   "metadata": {},
   "outputs": [
    {
     "name": "stdout",
     "output_type": "stream",
     "text": [
      "Model: \"sequential_6\"\n",
      "_________________________________________________________________\n",
      " Layer (type)                Output Shape              Param #   \n",
      "=================================================================\n",
      " conv3d_28 (Conv3D)          (None, 30, 120, 120, 8)   656       \n",
      "                                                                 \n",
      " batch_normalization_14 (Bat  (None, 30, 120, 120, 8)  32        \n",
      " chNormalization)                                                \n",
      "                                                                 \n",
      " activation_28 (Activation)  (None, 30, 120, 120, 8)   0         \n",
      "                                                                 \n",
      " max_pooling3d_20 (MaxPoolin  (None, 15, 60, 60, 8)    0         \n",
      " g3D)                                                            \n",
      "                                                                 \n",
      " conv3d_29 (Conv3D)          (None, 15, 60, 60, 16)    3472      \n",
      "                                                                 \n",
      " batch_normalization_15 (Bat  (None, 15, 60, 60, 16)   64        \n",
      " chNormalization)                                                \n",
      "                                                                 \n",
      " activation_29 (Activation)  (None, 15, 60, 60, 16)    0         \n",
      "                                                                 \n",
      " max_pooling3d_21 (MaxPoolin  (None, 7, 30, 30, 16)    0         \n",
      " g3D)                                                            \n",
      "                                                                 \n",
      " conv3d_30 (Conv3D)          (None, 7, 30, 30, 32)     4640      \n",
      "                                                                 \n",
      " batch_normalization_16 (Bat  (None, 7, 30, 30, 32)    128       \n",
      " chNormalization)                                                \n",
      "                                                                 \n",
      " activation_30 (Activation)  (None, 7, 30, 30, 32)     0         \n",
      "                                                                 \n",
      " max_pooling3d_22 (MaxPoolin  (None, 3, 15, 15, 32)    0         \n",
      " g3D)                                                            \n",
      "                                                                 \n",
      " conv3d_31 (Conv3D)          (None, 3, 15, 15, 64)     18496     \n",
      "                                                                 \n",
      " batch_normalization_17 (Bat  (None, 3, 15, 15, 64)    256       \n",
      " chNormalization)                                                \n",
      "                                                                 \n",
      " activation_31 (Activation)  (None, 3, 15, 15, 64)     0         \n",
      "                                                                 \n",
      " max_pooling3d_23 (MaxPoolin  (None, 1, 7, 7, 64)      0         \n",
      " g3D)                                                            \n",
      "                                                                 \n",
      " flatten_6 (Flatten)         (None, 3136)              0         \n",
      "                                                                 \n",
      " dense_15 (Dense)            (None, 1000)              3137000   \n",
      "                                                                 \n",
      " dropout_17 (Dropout)        (None, 1000)              0         \n",
      "                                                                 \n",
      " dense_16 (Dense)            (None, 500)               500500    \n",
      "                                                                 \n",
      " dropout_18 (Dropout)        (None, 500)               0         \n",
      "                                                                 \n",
      " dense_17 (Dense)            (None, 5)                 2505      \n",
      "                                                                 \n",
      "=================================================================\n",
      "Total params: 3,667,749\n",
      "Trainable params: 3,667,509\n",
      "Non-trainable params: 240\n",
      "_________________________________________________________________\n"
     ]
    }
   ],
   "source": [
    "nb_frames = 30 # number of frames\n",
    "nb_rows = 120 # image width\n",
    "nb_cols = 120 # image height \n",
    "\n",
    "nb_classes = 5\n",
    "nb_channel = 3\n",
    "\n",
    "input_shape=(nb_frames,nb_rows,nb_cols,nb_channel)\n",
    "\n",
    "# Define model\n",
    "model_g = Sequential()\n",
    "\n",
    "model_g.add(Conv3D(nb_filters[0], \n",
    "                 kernel_size=(3,3,3), \n",
    "                 input_shape=input_shape,\n",
    "                 padding='same'))\n",
    "model_g.add(BatchNormalization())\n",
    "model_g.add(Activation('relu'))\n",
    "\n",
    "model_g.add(MaxPooling3D(pool_size=(2,2,2)))\n",
    "\n",
    "model_g.add(Conv3D(nb_filters[1], \n",
    "                 kernel_size=(3,3,3), \n",
    "                 padding='same'))\n",
    "model_g.add(BatchNormalization())\n",
    "model_g.add(Activation('relu'))\n",
    "\n",
    "model_g.add(MaxPooling3D(pool_size=(2,2,2)))\n",
    "\n",
    "model_g.add(Conv3D(nb_filters[2], \n",
    "                 kernel_size=(1,3,3), \n",
    "                 padding='same'))\n",
    "model_g.add(BatchNormalization())\n",
    "model_g.add(Activation('relu'))\n",
    "\n",
    "model_g.add(MaxPooling3D(pool_size=(2,2,2)))\n",
    "\n",
    "model_g.add(Conv3D(nb_filters[3], \n",
    "                 kernel_size=(1,3,3), \n",
    "                 padding='same'))\n",
    "model_g.add(BatchNormalization())\n",
    "model_g.add(Activation('relu'))\n",
    "\n",
    "model_g.add(MaxPooling3D(pool_size=(2,2,2)))\n",
    "\n",
    "#Flatten Layers\n",
    "model_g.add(Flatten())\n",
    "\n",
    "model_g.add(Dense(nb_dense[0], activation='relu'))\n",
    "model_g.add(Dropout(0.3))\n",
    "\n",
    "model_g.add(Dense(nb_dense[1], activation='relu'))\n",
    "model_g.add(Dropout(0.3))\n",
    "\n",
    "#softmax layer\n",
    "model_g.add(Dense(nb_dense[2], activation='softmax'))\n",
    "model_g.compile(optimizer='adam', loss='categorical_crossentropy', metrics=['categorical_accuracy'])\n",
    "model_g.summary()\n"
   ]
  },
  {
   "cell_type": "code",
   "execution_count": 40,
   "metadata": {},
   "outputs": [
    {
     "name": "stdout",
     "output_type": "stream",
     "text": [
      "Source path =  datasets/Project_data/train ; batch size = 10\n"
     ]
    },
    {
     "name": "stderr",
     "output_type": "stream",
     "text": [
      "/tmp/ipykernel_389/298245867.py:5: UserWarning: `Model.fit_generator` is deprecated and will be removed in a future version. Please use `Model.fit`, which supports generators.\n",
      "  model_g.fit_generator(train_generator, steps_per_epoch=steps_per_epoch, epochs=num_epochs, verbose=1,\n"
     ]
    },
    {
     "name": "stdout",
     "output_type": "stream",
     "text": [
      "Epoch 1/20\n",
      "65/67 [============================>.] - ETA: 1s - loss: 2.8214 - categorical_accuracy: 0.3262Batch:  67 Index: 10\n",
      "67/67 [==============================] - ETA: 0s - loss: 2.7963 - categorical_accuracy: 0.3243Source path =  datasets/Project_data/val ; batch size = 10\n",
      "\n",
      "Epoch 00001: saving model to model_init_2022-05-1813_53_31.147025/model-00001-2.79627-0.32428-5.19403-0.28500.h5\n",
      "67/67 [==============================] - 69s 1s/step - loss: 2.7963 - categorical_accuracy: 0.3243 - val_loss: 5.1940 - val_categorical_accuracy: 0.2850 - lr: 0.0010\n",
      "Epoch 2/20\n",
      "67/67 [==============================] - ETA: 0s - loss: 1.6738 - categorical_accuracy: 0.2910\n",
      "Epoch 00002: saving model to model_init_2022-05-1813_53_31.147025/model-00002-1.67376-0.29104-4.12701-0.23000.h5\n",
      "67/67 [==============================] - 27s 403ms/step - loss: 1.6738 - categorical_accuracy: 0.2910 - val_loss: 4.1270 - val_categorical_accuracy: 0.2300 - lr: 0.0010\n",
      "Epoch 3/20\n",
      "67/67 [==============================] - ETA: 0s - loss: 1.5436 - categorical_accuracy: 0.3856\n",
      "Epoch 00003: saving model to model_init_2022-05-1813_53_31.147025/model-00003-1.54364-0.38557-1.42753-0.31000.h5\n",
      "67/67 [==============================] - 26s 397ms/step - loss: 1.5436 - categorical_accuracy: 0.3856 - val_loss: 1.4275 - val_categorical_accuracy: 0.3100 - lr: 0.0010\n",
      "Epoch 4/20\n",
      "67/67 [==============================] - ETA: 0s - loss: 1.3140 - categorical_accuracy: 0.4502\n",
      "Epoch 00004: saving model to model_init_2022-05-1813_53_31.147025/model-00004-1.31402-0.45025-2.02588-0.34000.h5\n",
      "67/67 [==============================] - 28s 417ms/step - loss: 1.3140 - categorical_accuracy: 0.4502 - val_loss: 2.0259 - val_categorical_accuracy: 0.3400 - lr: 0.0010\n",
      "Epoch 5/20\n",
      "67/67 [==============================] - ETA: 0s - loss: 1.3437 - categorical_accuracy: 0.4652\n",
      "Epoch 00005: saving model to model_init_2022-05-1813_53_31.147025/model-00005-1.34369-0.46517-1.23231-0.48000.h5\n",
      "67/67 [==============================] - 26s 395ms/step - loss: 1.3437 - categorical_accuracy: 0.4652 - val_loss: 1.2323 - val_categorical_accuracy: 0.4800 - lr: 0.0010\n",
      "Epoch 6/20\n",
      "67/67 [==============================] - ETA: 0s - loss: 1.4166 - categorical_accuracy: 0.4154\n",
      "Epoch 00006: saving model to model_init_2022-05-1813_53_31.147025/model-00006-1.41664-0.41542-1.12288-0.49500.h5\n",
      "67/67 [==============================] - 27s 404ms/step - loss: 1.4166 - categorical_accuracy: 0.4154 - val_loss: 1.1229 - val_categorical_accuracy: 0.4950 - lr: 0.0010\n",
      "Epoch 7/20\n",
      "67/67 [==============================] - ETA: 0s - loss: 1.2234 - categorical_accuracy: 0.4950\n",
      "Epoch 00007: saving model to model_init_2022-05-1813_53_31.147025/model-00007-1.22340-0.49502-1.13956-0.45500.h5\n",
      "67/67 [==============================] - 26s 393ms/step - loss: 1.2234 - categorical_accuracy: 0.4950 - val_loss: 1.1396 - val_categorical_accuracy: 0.4550 - lr: 0.0010\n",
      "Epoch 8/20\n",
      "67/67 [==============================] - ETA: 0s - loss: 1.2185 - categorical_accuracy: 0.4900\n",
      "Epoch 00008: saving model to model_init_2022-05-1813_53_31.147025/model-00008-1.21850-0.49005-2.00334-0.35500.h5\n",
      "\n",
      "Epoch 00008: ReduceLROnPlateau reducing learning rate to 0.0005000000237487257.\n",
      "67/67 [==============================] - 28s 424ms/step - loss: 1.2185 - categorical_accuracy: 0.4900 - val_loss: 2.0033 - val_categorical_accuracy: 0.3550 - lr: 0.0010\n",
      "Epoch 9/20\n",
      "67/67 [==============================] - ETA: 0s - loss: 1.0567 - categorical_accuracy: 0.6219\n",
      "Epoch 00009: saving model to model_init_2022-05-1813_53_31.147025/model-00009-1.05670-0.62189-1.36406-0.47500.h5\n",
      "67/67 [==============================] - 26s 397ms/step - loss: 1.0567 - categorical_accuracy: 0.6219 - val_loss: 1.3641 - val_categorical_accuracy: 0.4750 - lr: 5.0000e-04\n",
      "Epoch 10/20\n",
      "67/67 [==============================] - ETA: 0s - loss: 1.0109 - categorical_accuracy: 0.6020\n",
      "Epoch 00010: saving model to model_init_2022-05-1813_53_31.147025/model-00010-1.01094-0.60199-1.09403-0.60000.h5\n",
      "67/67 [==============================] - 28s 431ms/step - loss: 1.0109 - categorical_accuracy: 0.6020 - val_loss: 1.0940 - val_categorical_accuracy: 0.6000 - lr: 5.0000e-04\n",
      "Epoch 11/20\n",
      "67/67 [==============================] - ETA: 0s - loss: 0.9858 - categorical_accuracy: 0.5746\n",
      "Epoch 00011: saving model to model_init_2022-05-1813_53_31.147025/model-00011-0.98578-0.57463-0.85808-0.65000.h5\n",
      "67/67 [==============================] - 27s 409ms/step - loss: 0.9858 - categorical_accuracy: 0.5746 - val_loss: 0.8581 - val_categorical_accuracy: 0.6500 - lr: 5.0000e-04\n",
      "Epoch 12/20\n",
      "67/67 [==============================] - ETA: 0s - loss: 0.8656 - categorical_accuracy: 0.6468\n",
      "Epoch 00012: saving model to model_init_2022-05-1813_53_31.147025/model-00012-0.86564-0.64677-0.82078-0.69500.h5\n",
      "67/67 [==============================] - 27s 407ms/step - loss: 0.8656 - categorical_accuracy: 0.6468 - val_loss: 0.8208 - val_categorical_accuracy: 0.6950 - lr: 5.0000e-04\n",
      "Epoch 13/20\n",
      "67/67 [==============================] - ETA: 0s - loss: 0.8646 - categorical_accuracy: 0.6667\n",
      "Epoch 00013: saving model to model_init_2022-05-1813_53_31.147025/model-00013-0.86463-0.66667-0.86398-0.63500.h5\n",
      "67/67 [==============================] - 28s 422ms/step - loss: 0.8646 - categorical_accuracy: 0.6667 - val_loss: 0.8640 - val_categorical_accuracy: 0.6350 - lr: 5.0000e-04\n",
      "Epoch 14/20\n",
      "67/67 [==============================] - ETA: 0s - loss: 0.7461 - categorical_accuracy: 0.7363\n",
      "Epoch 00014: saving model to model_init_2022-05-1813_53_31.147025/model-00014-0.74611-0.73632-0.71405-0.75500.h5\n",
      "67/67 [==============================] - 30s 447ms/step - loss: 0.7461 - categorical_accuracy: 0.7363 - val_loss: 0.7141 - val_categorical_accuracy: 0.7550 - lr: 5.0000e-04\n",
      "Epoch 15/20\n",
      "67/67 [==============================] - ETA: 0s - loss: 0.6996 - categorical_accuracy: 0.7537\n",
      "Epoch 00015: saving model to model_init_2022-05-1813_53_31.147025/model-00015-0.69956-0.75373-0.83159-0.73500.h5\n",
      "67/67 [==============================] - 26s 395ms/step - loss: 0.6996 - categorical_accuracy: 0.7537 - val_loss: 0.8316 - val_categorical_accuracy: 0.7350 - lr: 5.0000e-04\n",
      "Epoch 16/20\n",
      "67/67 [==============================] - ETA: 0s - loss: 0.6606 - categorical_accuracy: 0.7537\n",
      "Epoch 00016: saving model to model_init_2022-05-1813_53_31.147025/model-00016-0.66061-0.75373-0.73770-0.72500.h5\n",
      "\n",
      "Epoch 00016: ReduceLROnPlateau reducing learning rate to 0.0002500000118743628.\n",
      "67/67 [==============================] - 26s 401ms/step - loss: 0.6606 - categorical_accuracy: 0.7537 - val_loss: 0.7377 - val_categorical_accuracy: 0.7250 - lr: 5.0000e-04\n",
      "Epoch 17/20\n",
      "67/67 [==============================] - ETA: 0s - loss: 0.4967 - categorical_accuracy: 0.8408\n",
      "Epoch 00017: saving model to model_init_2022-05-1813_53_31.147025/model-00017-0.49666-0.84080-0.52775-0.79500.h5\n",
      "67/67 [==============================] - 26s 386ms/step - loss: 0.4967 - categorical_accuracy: 0.8408 - val_loss: 0.5277 - val_categorical_accuracy: 0.7950 - lr: 2.5000e-04\n",
      "Epoch 18/20\n",
      "67/67 [==============================] - ETA: 0s - loss: 0.4899 - categorical_accuracy: 0.8284\n",
      "Epoch 00018: saving model to model_init_2022-05-1813_53_31.147025/model-00018-0.48988-0.82836-0.79616-0.77500.h5\n",
      "67/67 [==============================] - 28s 417ms/step - loss: 0.4899 - categorical_accuracy: 0.8284 - val_loss: 0.7962 - val_categorical_accuracy: 0.7750 - lr: 2.5000e-04\n",
      "Epoch 19/20\n",
      "67/67 [==============================] - ETA: 0s - loss: 0.4133 - categorical_accuracy: 0.8532\n",
      "Epoch 00019: saving model to model_init_2022-05-1813_53_31.147025/model-00019-0.41331-0.85323-0.61701-0.76000.h5\n",
      "\n",
      "Epoch 00019: ReduceLROnPlateau reducing learning rate to 0.0001250000059371814.\n",
      "67/67 [==============================] - 27s 409ms/step - loss: 0.4133 - categorical_accuracy: 0.8532 - val_loss: 0.6170 - val_categorical_accuracy: 0.7600 - lr: 2.5000e-04\n",
      "Epoch 20/20\n",
      "67/67 [==============================] - ETA: 0s - loss: 0.4510 - categorical_accuracy: 0.8284\n",
      "Epoch 00020: saving model to model_init_2022-05-1813_53_31.147025/model-00020-0.45098-0.82836-0.48984-0.82500.h5\n",
      "67/67 [==============================] - 27s 407ms/step - loss: 0.4510 - categorical_accuracy: 0.8284 - val_loss: 0.4898 - val_categorical_accuracy: 0.8250 - lr: 1.2500e-04\n"
     ]
    },
    {
     "data": {
      "text/plain": [
       "<keras.callbacks.History at 0x7f9b18034b80>"
      ]
     },
     "execution_count": 40,
     "metadata": {},
     "output_type": "execute_result"
    }
   ],
   "source": [
    "batch_size = 10\n",
    "train_generator = aug_generator(train_path, train_doc, batch_size)\n",
    "val_generator = aug_generator(val_path, val_doc, batch_size)\n",
    "num_epochs = 20\n",
    "model_g.fit_generator(train_generator, steps_per_epoch=steps_per_epoch, epochs=num_epochs, verbose=1, \n",
    "                    callbacks=callbacks_list, validation_data=val_generator, \n",
    "                    validation_steps=validation_steps, class_weight=None, workers=1, initial_epoch=0)"
   ]
  },
  {
   "cell_type": "code",
   "execution_count": 41,
   "metadata": {},
   "outputs": [
    {
     "name": "stdout",
     "output_type": "stream",
     "text": [
      "Model: \"sequential_7\"\n",
      "_________________________________________________________________\n",
      " Layer (type)                Output Shape              Param #   \n",
      "=================================================================\n",
      " conv3d_32 (Conv3D)          (None, 30, 120, 120, 8)   656       \n",
      "                                                                 \n",
      " batch_normalization_18 (Bat  (None, 30, 120, 120, 8)  32        \n",
      " chNormalization)                                                \n",
      "                                                                 \n",
      " activation_32 (Activation)  (None, 30, 120, 120, 8)   0         \n",
      "                                                                 \n",
      " max_pooling3d_24 (MaxPoolin  (None, 15, 60, 60, 8)    0         \n",
      " g3D)                                                            \n",
      "                                                                 \n",
      " conv3d_33 (Conv3D)          (None, 15, 60, 60, 16)    3472      \n",
      "                                                                 \n",
      " batch_normalization_19 (Bat  (None, 15, 60, 60, 16)   64        \n",
      " chNormalization)                                                \n",
      "                                                                 \n",
      " activation_33 (Activation)  (None, 15, 60, 60, 16)    0         \n",
      "                                                                 \n",
      " max_pooling3d_25 (MaxPoolin  (None, 7, 30, 30, 16)    0         \n",
      " g3D)                                                            \n",
      "                                                                 \n",
      " conv3d_34 (Conv3D)          (None, 7, 30, 30, 32)     4640      \n",
      "                                                                 \n",
      " batch_normalization_20 (Bat  (None, 7, 30, 30, 32)    128       \n",
      " chNormalization)                                                \n",
      "                                                                 \n",
      " activation_34 (Activation)  (None, 7, 30, 30, 32)     0         \n",
      "                                                                 \n",
      " max_pooling3d_26 (MaxPoolin  (None, 3, 15, 15, 32)    0         \n",
      " g3D)                                                            \n",
      "                                                                 \n",
      " conv3d_35 (Conv3D)          (None, 3, 15, 15, 64)     18496     \n",
      "                                                                 \n",
      " activation_35 (Activation)  (None, 3, 15, 15, 64)     0         \n",
      "                                                                 \n",
      " dropout_19 (Dropout)        (None, 3, 15, 15, 64)     0         \n",
      "                                                                 \n",
      " max_pooling3d_27 (MaxPoolin  (None, 1, 7, 7, 64)      0         \n",
      " g3D)                                                            \n",
      "                                                                 \n",
      " flatten_7 (Flatten)         (None, 3136)              0         \n",
      "                                                                 \n",
      " dense_18 (Dense)            (None, 1000)              3137000   \n",
      "                                                                 \n",
      " dropout_20 (Dropout)        (None, 1000)              0         \n",
      "                                                                 \n",
      " dense_19 (Dense)            (None, 500)               500500    \n",
      "                                                                 \n",
      " dropout_21 (Dropout)        (None, 500)               0         \n",
      "                                                                 \n",
      " dense_20 (Dense)            (None, 5)                 2505      \n",
      "                                                                 \n",
      "=================================================================\n",
      "Total params: 3,667,493\n",
      "Trainable params: 3,667,381\n",
      "Non-trainable params: 112\n",
      "_________________________________________________________________\n"
     ]
    }
   ],
   "source": [
    "nb_frames = 30 # number of frames\n",
    "nb_rows = 120 # image width\n",
    "nb_cols = 120 # image height \n",
    "\n",
    "nb_classes = 5\n",
    "nb_channel = 3\n",
    "\n",
    "input_shape=(nb_frames,nb_rows,nb_cols,nb_channel)\n",
    "\n",
    "# Define model\n",
    "model_h = Sequential()\n",
    "\n",
    "model_h.add(Conv3D(nb_filters[0], \n",
    "                 kernel_size=(3,3,3), \n",
    "                 input_shape=input_shape,\n",
    "                 padding='same'))\n",
    "model_h.add(BatchNormalization())\n",
    "model_h.add(Activation('relu'))\n",
    "\n",
    "model_h.add(MaxPooling3D(pool_size=(2,2,2)))\n",
    "\n",
    "model_h.add(Conv3D(nb_filters[1], \n",
    "                 kernel_size=(3,3,3), \n",
    "                 padding='same'))\n",
    "model_h.add(BatchNormalization())\n",
    "model_h.add(Activation('relu'))\n",
    "\n",
    "model_h.add(MaxPooling3D(pool_size=(2,2,2)))\n",
    "\n",
    "model_h.add(Conv3D(nb_filters[2], \n",
    "                 kernel_size=(1,3,3), \n",
    "                 padding='same'))\n",
    "model_h.add(BatchNormalization())\n",
    "model_h.add(Activation('relu'))\n",
    "\n",
    "model_h.add(MaxPooling3D(pool_size=(2,2,2)))\n",
    "\n",
    "model_h.add(Conv3D(nb_filters[3], \n",
    "                 kernel_size=(1,3,3), \n",
    "                 padding='same'))\n",
    "model_h.add(Activation('relu'))\n",
    "model_h.add(Dropout(0.25))\n",
    "\n",
    "model_h.add(MaxPooling3D(pool_size=(2,2,2)))\n",
    "\n",
    "#Flatten Layers\n",
    "model_h.add(Flatten())\n",
    "\n",
    "model_h.add(Dense(nb_dense[0], activation='relu'))\n",
    "model_h.add(Dropout(0.5))\n",
    "\n",
    "model_h.add(Dense(nb_dense[1], activation='relu'))\n",
    "model_h.add(Dropout(0.5))\n",
    "\n",
    "#softmax layer\n",
    "model_h.add(Dense(nb_dense[2], activation='softmax'))\n",
    "model_h.compile(optimizer='adam', loss='categorical_crossentropy', metrics=['categorical_accuracy'])\n",
    "model_h.summary()"
   ]
  },
  {
   "cell_type": "code",
   "execution_count": 42,
   "metadata": {},
   "outputs": [
    {
     "name": "stdout",
     "output_type": "stream",
     "text": [
      "Source path =  datasets/Project_data/train ; batch size = 10\n"
     ]
    },
    {
     "name": "stderr",
     "output_type": "stream",
     "text": [
      "/tmp/ipykernel_389/320957926.py:5: UserWarning: `Model.fit_generator` is deprecated and will be removed in a future version. Please use `Model.fit`, which supports generators.\n",
      "  model_h.fit_generator(train_generator, steps_per_epoch=steps_per_epoch, epochs=num_epochs, verbose=1,\n"
     ]
    },
    {
     "name": "stdout",
     "output_type": "stream",
     "text": [
      "Epoch 1/20\n",
      "65/67 [============================>.] - ETA: 1s - loss: 1.8289 - categorical_accuracy: 0.2785Batch:  67 Index: 10\n",
      "67/67 [==============================] - ETA: 0s - loss: 1.8155 - categorical_accuracy: 0.2843Source path =  datasets/Project_data/val ; batch size = 10\n",
      "\n",
      "Epoch 00001: saving model to model_init_2022-05-1813_53_31.147025/model-00001-1.81550-0.28431-2.73964-0.28000.h5\n",
      "67/67 [==============================] - 68s 1s/step - loss: 1.8155 - categorical_accuracy: 0.2843 - val_loss: 2.7396 - val_categorical_accuracy: 0.2800 - lr: 0.0010\n",
      "Epoch 2/20\n",
      "67/67 [==============================] - ETA: 0s - loss: 1.4600 - categorical_accuracy: 0.3856\n",
      "Epoch 00002: saving model to model_init_2022-05-1813_53_31.147025/model-00002-1.45996-0.38557-1.37664-0.44000.h5\n",
      "67/67 [==============================] - 28s 417ms/step - loss: 1.4600 - categorical_accuracy: 0.3856 - val_loss: 1.3766 - val_categorical_accuracy: 0.4400 - lr: 0.0010\n",
      "Epoch 3/20\n",
      "67/67 [==============================] - ETA: 0s - loss: 1.4475 - categorical_accuracy: 0.3607\n",
      "Epoch 00003: saving model to model_init_2022-05-1813_53_31.147025/model-00003-1.44749-0.36070-1.76596-0.25500.h5\n",
      "67/67 [==============================] - 25s 385ms/step - loss: 1.4475 - categorical_accuracy: 0.3607 - val_loss: 1.7660 - val_categorical_accuracy: 0.2550 - lr: 0.0010\n",
      "Epoch 4/20\n",
      "67/67 [==============================] - ETA: 0s - loss: 1.3846 - categorical_accuracy: 0.4478\n",
      "Epoch 00004: saving model to model_init_2022-05-1813_53_31.147025/model-00004-1.38464-0.44776-1.18701-0.46000.h5\n",
      "67/67 [==============================] - 26s 390ms/step - loss: 1.3846 - categorical_accuracy: 0.4478 - val_loss: 1.1870 - val_categorical_accuracy: 0.4600 - lr: 0.0010\n",
      "Epoch 5/20\n",
      "67/67 [==============================] - ETA: 0s - loss: 1.2549 - categorical_accuracy: 0.5075\n",
      "Epoch 00005: saving model to model_init_2022-05-1813_53_31.147025/model-00005-1.25488-0.50746-3.07769-0.22000.h5\n",
      "67/67 [==============================] - 26s 400ms/step - loss: 1.2549 - categorical_accuracy: 0.5075 - val_loss: 3.0777 - val_categorical_accuracy: 0.2200 - lr: 0.0010\n",
      "Epoch 6/20\n",
      "67/67 [==============================] - ETA: 0s - loss: 1.2180 - categorical_accuracy: 0.5224\n",
      "Epoch 00006: saving model to model_init_2022-05-1813_53_31.147025/model-00006-1.21804-0.52239-1.29985-0.44500.h5\n",
      "\n",
      "Epoch 00006: ReduceLROnPlateau reducing learning rate to 0.0005000000237487257.\n",
      "67/67 [==============================] - 27s 414ms/step - loss: 1.2180 - categorical_accuracy: 0.5224 - val_loss: 1.2999 - val_categorical_accuracy: 0.4450 - lr: 0.0010\n",
      "Epoch 7/20\n",
      "67/67 [==============================] - ETA: 0s - loss: 0.9565 - categorical_accuracy: 0.6045\n",
      "Epoch 00007: saving model to model_init_2022-05-1813_53_31.147025/model-00007-0.95652-0.60448-0.98319-0.65000.h5\n",
      "67/67 [==============================] - 27s 410ms/step - loss: 0.9565 - categorical_accuracy: 0.6045 - val_loss: 0.9832 - val_categorical_accuracy: 0.6500 - lr: 5.0000e-04\n",
      "Epoch 8/20\n",
      "67/67 [==============================] - ETA: 0s - loss: 0.8437 - categorical_accuracy: 0.6866\n",
      "Epoch 00008: saving model to model_init_2022-05-1813_53_31.147025/model-00008-0.84366-0.68657-1.91582-0.39000.h5\n",
      "67/67 [==============================] - 26s 392ms/step - loss: 0.8437 - categorical_accuracy: 0.6866 - val_loss: 1.9158 - val_categorical_accuracy: 0.3900 - lr: 5.0000e-04\n",
      "Epoch 9/20\n",
      "67/67 [==============================] - ETA: 0s - loss: 0.8780 - categorical_accuracy: 0.6667\n",
      "Epoch 00009: saving model to model_init_2022-05-1813_53_31.147025/model-00009-0.87802-0.66667-1.02017-0.71000.h5\n",
      "\n",
      "Epoch 00009: ReduceLROnPlateau reducing learning rate to 0.0002500000118743628.\n",
      "67/67 [==============================] - 27s 404ms/step - loss: 0.8780 - categorical_accuracy: 0.6667 - val_loss: 1.0202 - val_categorical_accuracy: 0.7100 - lr: 5.0000e-04\n",
      "Epoch 10/20\n",
      "67/67 [==============================] - ETA: 0s - loss: 0.7309 - categorical_accuracy: 0.6990\n",
      "Epoch 00010: saving model to model_init_2022-05-1813_53_31.147025/model-00010-0.73093-0.69900-0.95444-0.62500.h5\n",
      "67/67 [==============================] - 26s 400ms/step - loss: 0.7309 - categorical_accuracy: 0.6990 - val_loss: 0.9544 - val_categorical_accuracy: 0.6250 - lr: 2.5000e-04\n",
      "Epoch 11/20\n",
      "67/67 [==============================] - ETA: 0s - loss: 0.5995 - categorical_accuracy: 0.7836\n",
      "Epoch 00011: saving model to model_init_2022-05-1813_53_31.147025/model-00011-0.59949-0.78358-0.80473-0.73000.h5\n",
      "67/67 [==============================] - 26s 392ms/step - loss: 0.5995 - categorical_accuracy: 0.7836 - val_loss: 0.8047 - val_categorical_accuracy: 0.7300 - lr: 2.5000e-04\n",
      "Epoch 12/20\n",
      "67/67 [==============================] - ETA: 0s - loss: 0.6863 - categorical_accuracy: 0.7164\n",
      "Epoch 00012: saving model to model_init_2022-05-1813_53_31.147025/model-00012-0.68633-0.71642-0.63613-0.77500.h5\n",
      "67/67 [==============================] - 27s 405ms/step - loss: 0.6863 - categorical_accuracy: 0.7164 - val_loss: 0.6361 - val_categorical_accuracy: 0.7750 - lr: 2.5000e-04\n",
      "Epoch 13/20\n",
      "67/67 [==============================] - ETA: 0s - loss: 0.5439 - categorical_accuracy: 0.8085\n",
      "Epoch 00013: saving model to model_init_2022-05-1813_53_31.147025/model-00013-0.54393-0.80846-0.92655-0.60500.h5\n",
      "67/67 [==============================] - 26s 396ms/step - loss: 0.5439 - categorical_accuracy: 0.8085 - val_loss: 0.9265 - val_categorical_accuracy: 0.6050 - lr: 2.5000e-04\n",
      "Epoch 14/20\n",
      "67/67 [==============================] - ETA: 0s - loss: 0.5781 - categorical_accuracy: 0.7836\n",
      "Epoch 00014: saving model to model_init_2022-05-1813_53_31.147025/model-00014-0.57805-0.78358-0.63557-0.77000.h5\n",
      "67/67 [==============================] - 25s 373ms/step - loss: 0.5781 - categorical_accuracy: 0.7836 - val_loss: 0.6356 - val_categorical_accuracy: 0.7700 - lr: 2.5000e-04\n",
      "Epoch 15/20\n",
      "67/67 [==============================] - ETA: 0s - loss: 0.6114 - categorical_accuracy: 0.7537\n",
      "Epoch 00015: saving model to model_init_2022-05-1813_53_31.147025/model-00015-0.61136-0.75373-0.49342-0.90000.h5\n",
      "67/67 [==============================] - 27s 413ms/step - loss: 0.6114 - categorical_accuracy: 0.7537 - val_loss: 0.4934 - val_categorical_accuracy: 0.9000 - lr: 2.5000e-04\n",
      "Epoch 16/20\n",
      "67/67 [==============================] - ETA: 0s - loss: 0.3964 - categorical_accuracy: 0.8582\n",
      "Epoch 00016: saving model to model_init_2022-05-1813_53_31.147025/model-00016-0.39644-0.85821-0.76379-0.75500.h5\n",
      "67/67 [==============================] - 27s 404ms/step - loss: 0.3964 - categorical_accuracy: 0.8582 - val_loss: 0.7638 - val_categorical_accuracy: 0.7550 - lr: 2.5000e-04\n",
      "Epoch 17/20\n",
      "67/67 [==============================] - ETA: 0s - loss: 0.4592 - categorical_accuracy: 0.8333\n",
      "Epoch 00017: saving model to model_init_2022-05-1813_53_31.147025/model-00017-0.45924-0.83333-0.61036-0.80000.h5\n",
      "\n",
      "Epoch 00017: ReduceLROnPlateau reducing learning rate to 0.0001250000059371814.\n",
      "67/67 [==============================] - 27s 406ms/step - loss: 0.4592 - categorical_accuracy: 0.8333 - val_loss: 0.6104 - val_categorical_accuracy: 0.8000 - lr: 2.5000e-04\n",
      "Epoch 18/20\n",
      "67/67 [==============================] - ETA: 0s - loss: 0.4765 - categorical_accuracy: 0.8333\n",
      "Epoch 00018: saving model to model_init_2022-05-1813_53_31.147025/model-00018-0.47648-0.83333-0.51393-0.84000.h5\n",
      "67/67 [==============================] - 27s 404ms/step - loss: 0.4765 - categorical_accuracy: 0.8333 - val_loss: 0.5139 - val_categorical_accuracy: 0.8400 - lr: 1.2500e-04\n",
      "Epoch 19/20\n",
      "67/67 [==============================] - ETA: 0s - loss: 0.3883 - categorical_accuracy: 0.8483\n",
      "Epoch 00019: saving model to model_init_2022-05-1813_53_31.147025/model-00019-0.38829-0.84826-0.53780-0.79000.h5\n",
      "\n",
      "Epoch 00019: ReduceLROnPlateau reducing learning rate to 6.25000029685907e-05.\n",
      "67/67 [==============================] - 27s 408ms/step - loss: 0.3883 - categorical_accuracy: 0.8483 - val_loss: 0.5378 - val_categorical_accuracy: 0.7900 - lr: 1.2500e-04\n",
      "Epoch 20/20\n",
      "67/67 [==============================] - ETA: 0s - loss: 0.2793 - categorical_accuracy: 0.8905\n",
      "Epoch 00020: saving model to model_init_2022-05-1813_53_31.147025/model-00020-0.27932-0.89055-0.53591-0.80500.h5\n",
      "67/67 [==============================] - 26s 400ms/step - loss: 0.2793 - categorical_accuracy: 0.8905 - val_loss: 0.5359 - val_categorical_accuracy: 0.8050 - lr: 6.2500e-05\n"
     ]
    },
    {
     "data": {
      "text/plain": [
       "<keras.callbacks.History at 0x7f9b6c5825e0>"
      ]
     },
     "execution_count": 42,
     "metadata": {},
     "output_type": "execute_result"
    }
   ],
   "source": [
    "batch_size = 10\n",
    "train_generator = aug_generator(train_path, train_doc, batch_size)\n",
    "val_generator = aug_generator(val_path, val_doc, batch_size)\n",
    "num_epochs = 20\n",
    "model_h.fit_generator(train_generator, steps_per_epoch=steps_per_epoch, epochs=num_epochs, verbose=1, \n",
    "                    callbacks=callbacks_list, validation_data=val_generator, \n",
    "                    validation_steps=validation_steps, class_weight=None, workers=1, initial_epoch=0)\n"
   ]
  },
  {
   "cell_type": "code",
   "execution_count": null,
   "metadata": {},
   "outputs": [],
   "source": []
  }
 ],
 "metadata": {
  "accelerator": "TPU",
  "colab": {
   "name": "GestureRecognition.ipynb",
   "provenance": []
  },
  "kernelspec": {
   "display_name": "Python 3 (ipykernel)",
   "language": "python",
   "name": "python3"
  },
  "language_info": {
   "codemirror_mode": {
    "name": "ipython",
    "version": 3
   },
   "file_extension": ".py",
   "mimetype": "text/x-python",
   "name": "python",
   "nbconvert_exporter": "python",
   "pygments_lexer": "ipython3",
   "version": "3.8.10"
  }
 },
 "nbformat": 4,
 "nbformat_minor": 4
}
